{
 "cells": [
  {
   "cell_type": "markdown",
   "id": "8bcf59b3",
   "metadata": {},
   "source": [
    "<h1><center>Limpieza Properatti</center></h1>"
   ]
  },
  {
   "cell_type": "markdown",
   "id": "e7715904",
   "metadata": {},
   "source": [
    "#### CN07\n",
    "#### Alejandro Susmelj\n"
   ]
  },
  {
   "cell_type": "code",
   "execution_count": 1,
   "id": "2ff757f2",
   "metadata": {},
   "outputs": [],
   "source": [
    "import numpy as np\n",
    "import pandas as pd\n",
    "import re\n",
    "from scipy import stats\n",
    "from math import floor\n",
    "import matplotlib.pyplot as plt\n",
    "import seaborn as sns\n",
    "from sklearn import metrics\n",
    "import statsmodels.api as sm\n",
    "from sklearn.preprocessing import StandardScaler"
   ]
  },
  {
   "cell_type": "code",
   "execution_count": 7,
   "id": "21e9f89a",
   "metadata": {
    "scrolled": true
   },
   "outputs": [
    {
     "data": {
      "text/html": [
       "<div>\n",
       "<style scoped>\n",
       "    .dataframe tbody tr th:only-of-type {\n",
       "        vertical-align: middle;\n",
       "    }\n",
       "\n",
       "    .dataframe tbody tr th {\n",
       "        vertical-align: top;\n",
       "    }\n",
       "\n",
       "    .dataframe thead th {\n",
       "        text-align: right;\n",
       "    }\n",
       "</style>\n",
       "<table border=\"1\" class=\"dataframe\">\n",
       "  <thead>\n",
       "    <tr style=\"text-align: right;\">\n",
       "      <th></th>\n",
       "      <th>Unnamed: 0</th>\n",
       "      <th>operation</th>\n",
       "      <th>property_type</th>\n",
       "      <th>place_name</th>\n",
       "      <th>place_with_parent_names</th>\n",
       "      <th>country_name</th>\n",
       "      <th>state_name</th>\n",
       "      <th>geonames_id</th>\n",
       "      <th>lat-lon</th>\n",
       "      <th>lat</th>\n",
       "      <th>...</th>\n",
       "      <th>surface_covered_in_m2</th>\n",
       "      <th>price_usd_per_m2</th>\n",
       "      <th>price_per_m2</th>\n",
       "      <th>floor</th>\n",
       "      <th>rooms</th>\n",
       "      <th>expenses</th>\n",
       "      <th>properati_url</th>\n",
       "      <th>description</th>\n",
       "      <th>title</th>\n",
       "      <th>image_thumbnail</th>\n",
       "    </tr>\n",
       "  </thead>\n",
       "  <tbody>\n",
       "    <tr>\n",
       "      <th>0</th>\n",
       "      <td>0</td>\n",
       "      <td>sell</td>\n",
       "      <td>PH</td>\n",
       "      <td>Mataderos</td>\n",
       "      <td>|Argentina|Capital Federal|Mataderos|</td>\n",
       "      <td>Argentina</td>\n",
       "      <td>Capital Federal</td>\n",
       "      <td>3430787.0</td>\n",
       "      <td>-34.6618237,-58.5088387</td>\n",
       "      <td>-34.661824</td>\n",
       "      <td>...</td>\n",
       "      <td>40.0</td>\n",
       "      <td>1127.272727</td>\n",
       "      <td>1550.000000</td>\n",
       "      <td>NaN</td>\n",
       "      <td>NaN</td>\n",
       "      <td>NaN</td>\n",
       "      <td>http://www.properati.com.ar/15bo8_venta_ph_mat...</td>\n",
       "      <td>2 AMBIENTES TIPO CASA PLANTA BAJA POR PASILLO,...</td>\n",
       "      <td>2 AMB TIPO CASA SIN EXPENSAS EN PB</td>\n",
       "      <td>https://thumbs4.properati.com/8/BluUYiHJLhgIIK...</td>\n",
       "    </tr>\n",
       "    <tr>\n",
       "      <th>1</th>\n",
       "      <td>1</td>\n",
       "      <td>sell</td>\n",
       "      <td>apartment</td>\n",
       "      <td>La Plata</td>\n",
       "      <td>|Argentina|Bs.As. G.B.A. Zona Sur|La Plata|</td>\n",
       "      <td>Argentina</td>\n",
       "      <td>Bs.As. G.B.A. Zona Sur</td>\n",
       "      <td>3432039.0</td>\n",
       "      <td>-34.9038831,-57.9643295</td>\n",
       "      <td>-34.903883</td>\n",
       "      <td>...</td>\n",
       "      <td>NaN</td>\n",
       "      <td>NaN</td>\n",
       "      <td>NaN</td>\n",
       "      <td>NaN</td>\n",
       "      <td>NaN</td>\n",
       "      <td>NaN</td>\n",
       "      <td>http://www.properati.com.ar/15bob_venta_depart...</td>\n",
       "      <td>Venta de departamento en décimo piso al frente...</td>\n",
       "      <td>VENTA Depto 2 dorm. a estrenar 7 e/ 36 y 37   ...</td>\n",
       "      <td>https://thumbs4.properati.com/7/ikpVBu2ztHA7jv...</td>\n",
       "    </tr>\n",
       "    <tr>\n",
       "      <th>2</th>\n",
       "      <td>2</td>\n",
       "      <td>sell</td>\n",
       "      <td>apartment</td>\n",
       "      <td>Mataderos</td>\n",
       "      <td>|Argentina|Capital Federal|Mataderos|</td>\n",
       "      <td>Argentina</td>\n",
       "      <td>Capital Federal</td>\n",
       "      <td>3430787.0</td>\n",
       "      <td>-34.6522615,-58.5229825</td>\n",
       "      <td>-34.652262</td>\n",
       "      <td>...</td>\n",
       "      <td>55.0</td>\n",
       "      <td>1309.090909</td>\n",
       "      <td>1309.090909</td>\n",
       "      <td>NaN</td>\n",
       "      <td>NaN</td>\n",
       "      <td>NaN</td>\n",
       "      <td>http://www.properati.com.ar/15bod_venta_depart...</td>\n",
       "      <td>2 AMBIENTES 3ER PISO LATERAL LIVING COMEDOR AM...</td>\n",
       "      <td>2 AMB 3ER PISO CON ASCENSOR APTO CREDITO</td>\n",
       "      <td>https://thumbs4.properati.com/5/SXKr34F_IwG3W_...</td>\n",
       "    </tr>\n",
       "    <tr>\n",
       "      <th>3</th>\n",
       "      <td>3</td>\n",
       "      <td>sell</td>\n",
       "      <td>PH</td>\n",
       "      <td>Liniers</td>\n",
       "      <td>|Argentina|Capital Federal|Liniers|</td>\n",
       "      <td>Argentina</td>\n",
       "      <td>Capital Federal</td>\n",
       "      <td>3431333.0</td>\n",
       "      <td>-34.6477969,-58.5164244</td>\n",
       "      <td>-34.647797</td>\n",
       "      <td>...</td>\n",
       "      <td>NaN</td>\n",
       "      <td>NaN</td>\n",
       "      <td>NaN</td>\n",
       "      <td>NaN</td>\n",
       "      <td>NaN</td>\n",
       "      <td>NaN</td>\n",
       "      <td>http://www.properati.com.ar/15boh_venta_ph_lin...</td>\n",
       "      <td>PH 3 ambientes con patio. Hay 3 deptos en lote...</td>\n",
       "      <td>PH 3 amb. cfte. reciclado</td>\n",
       "      <td>https://thumbs4.properati.com/3/DgIfX-85Mog5SP...</td>\n",
       "    </tr>\n",
       "    <tr>\n",
       "      <th>4</th>\n",
       "      <td>4</td>\n",
       "      <td>sell</td>\n",
       "      <td>apartment</td>\n",
       "      <td>Centro</td>\n",
       "      <td>|Argentina|Buenos Aires Costa Atlántica|Mar de...</td>\n",
       "      <td>Argentina</td>\n",
       "      <td>Buenos Aires Costa Atlántica</td>\n",
       "      <td>3435548.0</td>\n",
       "      <td>-38.0026256,-57.5494468</td>\n",
       "      <td>-38.002626</td>\n",
       "      <td>...</td>\n",
       "      <td>35.0</td>\n",
       "      <td>1828.571429</td>\n",
       "      <td>1828.571429</td>\n",
       "      <td>NaN</td>\n",
       "      <td>NaN</td>\n",
       "      <td>NaN</td>\n",
       "      <td>http://www.properati.com.ar/15bok_venta_depart...</td>\n",
       "      <td>DEPARTAMENTO CON FANTÁSTICA ILUMINACIÓN NATURA...</td>\n",
       "      <td>DEPTO 2 AMB AL CONTRAFRENTE ZONA CENTRO/PLAZA ...</td>\n",
       "      <td>https://thumbs4.properati.com/5/xrRqlNcSI_vs-f...</td>\n",
       "    </tr>\n",
       "    <tr>\n",
       "      <th>...</th>\n",
       "      <td>...</td>\n",
       "      <td>...</td>\n",
       "      <td>...</td>\n",
       "      <td>...</td>\n",
       "      <td>...</td>\n",
       "      <td>...</td>\n",
       "      <td>...</td>\n",
       "      <td>...</td>\n",
       "      <td>...</td>\n",
       "      <td>...</td>\n",
       "      <td>...</td>\n",
       "      <td>...</td>\n",
       "      <td>...</td>\n",
       "      <td>...</td>\n",
       "      <td>...</td>\n",
       "      <td>...</td>\n",
       "      <td>...</td>\n",
       "      <td>...</td>\n",
       "      <td>...</td>\n",
       "      <td>...</td>\n",
       "      <td>...</td>\n",
       "    </tr>\n",
       "    <tr>\n",
       "      <th>121215</th>\n",
       "      <td>121215</td>\n",
       "      <td>sell</td>\n",
       "      <td>apartment</td>\n",
       "      <td>Belgrano</td>\n",
       "      <td>|Argentina|Capital Federal|Belgrano|</td>\n",
       "      <td>Argentina</td>\n",
       "      <td>Capital Federal</td>\n",
       "      <td>3436077.0</td>\n",
       "      <td>NaN</td>\n",
       "      <td>NaN</td>\n",
       "      <td>...</td>\n",
       "      <td>93.0</td>\n",
       "      <td>7699.115044</td>\n",
       "      <td>9354.838710</td>\n",
       "      <td>NaN</td>\n",
       "      <td>NaN</td>\n",
       "      <td>10000.0</td>\n",
       "      <td>http://www.properati.com.ar/1cja2_venta_depart...</td>\n",
       "      <td>TORRE FORUM ALCORTA - MÁXIMA CATEGORÍA.Impecab...</td>\n",
       "      <td>Torre Forum Alcorta- Impecable 3 ambientes</td>\n",
       "      <td>https://thumbs4.properati.com/1/bjms0KnaAnlNoQ...</td>\n",
       "    </tr>\n",
       "    <tr>\n",
       "      <th>121216</th>\n",
       "      <td>121216</td>\n",
       "      <td>sell</td>\n",
       "      <td>house</td>\n",
       "      <td>Beccar</td>\n",
       "      <td>|Argentina|Bs.As. G.B.A. Zona Norte|San Isidro...</td>\n",
       "      <td>Argentina</td>\n",
       "      <td>Bs.As. G.B.A. Zona Norte</td>\n",
       "      <td>3436080.0</td>\n",
       "      <td>NaN</td>\n",
       "      <td>NaN</td>\n",
       "      <td>...</td>\n",
       "      <td>360.0</td>\n",
       "      <td>1383.333333</td>\n",
       "      <td>1383.333333</td>\n",
       "      <td>NaN</td>\n",
       "      <td>NaN</td>\n",
       "      <td>NaN</td>\n",
       "      <td>http://www.properati.com.ar/1cja6_venta_casa_b...</td>\n",
       "      <td>Excelente e impecable casa en Venta en Las Lom...</td>\n",
       "      <td>Ruca Inmuebles | Venta | Lomas de San Isidro |...</td>\n",
       "      <td>https://thumbs4.properati.com/2/PCc3WuQDjpNZc4...</td>\n",
       "    </tr>\n",
       "    <tr>\n",
       "      <th>121217</th>\n",
       "      <td>121217</td>\n",
       "      <td>sell</td>\n",
       "      <td>apartment</td>\n",
       "      <td>Villa Urquiza</td>\n",
       "      <td>|Argentina|Capital Federal|Villa Urquiza|</td>\n",
       "      <td>Argentina</td>\n",
       "      <td>Capital Federal</td>\n",
       "      <td>3433775.0</td>\n",
       "      <td>-34.5706388726,-58.4755963355</td>\n",
       "      <td>-34.570639</td>\n",
       "      <td>...</td>\n",
       "      <td>39.0</td>\n",
       "      <td>2858.695652</td>\n",
       "      <td>3371.794872</td>\n",
       "      <td>NaN</td>\n",
       "      <td>NaN</td>\n",
       "      <td>NaN</td>\n",
       "      <td>http://www.properati.com.ar/1cja7_venta_depart...</td>\n",
       "      <td>VENTA DEPARTAMENTO AMBIENTE DIVISIBLE A ESTREN...</td>\n",
       "      <td>VENTA DEPARTAMENTO AMBIENTE DIVISIBLE A ESTREN...</td>\n",
       "      <td>https://thumbs4.properati.com/9/YAe_-2gRVykADP...</td>\n",
       "    </tr>\n",
       "    <tr>\n",
       "      <th>121218</th>\n",
       "      <td>121218</td>\n",
       "      <td>sell</td>\n",
       "      <td>apartment</td>\n",
       "      <td>Plaza Colón</td>\n",
       "      <td>|Argentina|Buenos Aires Costa Atlántica|Mar de...</td>\n",
       "      <td>Argentina</td>\n",
       "      <td>Buenos Aires Costa Atlántica</td>\n",
       "      <td>NaN</td>\n",
       "      <td>NaN</td>\n",
       "      <td>NaN</td>\n",
       "      <td>...</td>\n",
       "      <td>48.0</td>\n",
       "      <td>1997.916667</td>\n",
       "      <td>1997.916667</td>\n",
       "      <td>NaN</td>\n",
       "      <td>NaN</td>\n",
       "      <td>NaN</td>\n",
       "      <td>http://www.properati.com.ar/1cja8_venta_depart...</td>\n",
       "      <td>2 Amb al contrafrente,  luminoso. El departame...</td>\n",
       "      <td>2 amb. C/ dep. de servicio al contrafrente| Re...</td>\n",
       "      <td>https://thumbs4.properati.com/8/Q12PTvU6BQJ0ib...</td>\n",
       "    </tr>\n",
       "    <tr>\n",
       "      <th>121219</th>\n",
       "      <td>121219</td>\n",
       "      <td>sell</td>\n",
       "      <td>apartment</td>\n",
       "      <td>Capital Federal</td>\n",
       "      <td>|Argentina|Capital Federal|</td>\n",
       "      <td>Argentina</td>\n",
       "      <td>Capital Federal</td>\n",
       "      <td>3433955.0</td>\n",
       "      <td>NaN</td>\n",
       "      <td>NaN</td>\n",
       "      <td>...</td>\n",
       "      <td>77.0</td>\n",
       "      <td>1675.324675</td>\n",
       "      <td>1675.324675</td>\n",
       "      <td>NaN</td>\n",
       "      <td>NaN</td>\n",
       "      <td>3500.0</td>\n",
       "      <td>http://www.properati.com.ar/1cjaa_venta_depart...</td>\n",
       "      <td>Departamento de 77 m2 apto profesional. Edific...</td>\n",
       "      <td>Departamento apto profesional en el Centro</td>\n",
       "      <td>https://thumbs4.properati.com/8/mNEsnQWqB7joBF...</td>\n",
       "    </tr>\n",
       "  </tbody>\n",
       "</table>\n",
       "<p>121220 rows × 26 columns</p>\n",
       "</div>"
      ],
      "text/plain": [
       "        Unnamed: 0 operation property_type       place_name  \\\n",
       "0                0      sell            PH        Mataderos   \n",
       "1                1      sell     apartment         La Plata   \n",
       "2                2      sell     apartment        Mataderos   \n",
       "3                3      sell            PH          Liniers   \n",
       "4                4      sell     apartment           Centro   \n",
       "...            ...       ...           ...              ...   \n",
       "121215      121215      sell     apartment         Belgrano   \n",
       "121216      121216      sell         house           Beccar   \n",
       "121217      121217      sell     apartment    Villa Urquiza   \n",
       "121218      121218      sell     apartment      Plaza Colón   \n",
       "121219      121219      sell     apartment  Capital Federal   \n",
       "\n",
       "                                  place_with_parent_names country_name  \\\n",
       "0                   |Argentina|Capital Federal|Mataderos|    Argentina   \n",
       "1             |Argentina|Bs.As. G.B.A. Zona Sur|La Plata|    Argentina   \n",
       "2                   |Argentina|Capital Federal|Mataderos|    Argentina   \n",
       "3                     |Argentina|Capital Federal|Liniers|    Argentina   \n",
       "4       |Argentina|Buenos Aires Costa Atlántica|Mar de...    Argentina   \n",
       "...                                                   ...          ...   \n",
       "121215               |Argentina|Capital Federal|Belgrano|    Argentina   \n",
       "121216  |Argentina|Bs.As. G.B.A. Zona Norte|San Isidro...    Argentina   \n",
       "121217          |Argentina|Capital Federal|Villa Urquiza|    Argentina   \n",
       "121218  |Argentina|Buenos Aires Costa Atlántica|Mar de...    Argentina   \n",
       "121219                        |Argentina|Capital Federal|    Argentina   \n",
       "\n",
       "                          state_name  geonames_id  \\\n",
       "0                    Capital Federal    3430787.0   \n",
       "1             Bs.As. G.B.A. Zona Sur    3432039.0   \n",
       "2                    Capital Federal    3430787.0   \n",
       "3                    Capital Federal    3431333.0   \n",
       "4       Buenos Aires Costa Atlántica    3435548.0   \n",
       "...                              ...          ...   \n",
       "121215               Capital Federal    3436077.0   \n",
       "121216      Bs.As. G.B.A. Zona Norte    3436080.0   \n",
       "121217               Capital Federal    3433775.0   \n",
       "121218  Buenos Aires Costa Atlántica          NaN   \n",
       "121219               Capital Federal    3433955.0   \n",
       "\n",
       "                              lat-lon        lat  ...  surface_covered_in_m2  \\\n",
       "0             -34.6618237,-58.5088387 -34.661824  ...                   40.0   \n",
       "1             -34.9038831,-57.9643295 -34.903883  ...                    NaN   \n",
       "2             -34.6522615,-58.5229825 -34.652262  ...                   55.0   \n",
       "3             -34.6477969,-58.5164244 -34.647797  ...                    NaN   \n",
       "4             -38.0026256,-57.5494468 -38.002626  ...                   35.0   \n",
       "...                               ...        ...  ...                    ...   \n",
       "121215                            NaN        NaN  ...                   93.0   \n",
       "121216                            NaN        NaN  ...                  360.0   \n",
       "121217  -34.5706388726,-58.4755963355 -34.570639  ...                   39.0   \n",
       "121218                            NaN        NaN  ...                   48.0   \n",
       "121219                            NaN        NaN  ...                   77.0   \n",
       "\n",
       "        price_usd_per_m2 price_per_m2  floor  rooms  expenses  \\\n",
       "0            1127.272727  1550.000000    NaN    NaN       NaN   \n",
       "1                    NaN          NaN    NaN    NaN       NaN   \n",
       "2            1309.090909  1309.090909    NaN    NaN       NaN   \n",
       "3                    NaN          NaN    NaN    NaN       NaN   \n",
       "4            1828.571429  1828.571429    NaN    NaN       NaN   \n",
       "...                  ...          ...    ...    ...       ...   \n",
       "121215       7699.115044  9354.838710    NaN    NaN   10000.0   \n",
       "121216       1383.333333  1383.333333    NaN    NaN       NaN   \n",
       "121217       2858.695652  3371.794872    NaN    NaN       NaN   \n",
       "121218       1997.916667  1997.916667    NaN    NaN       NaN   \n",
       "121219       1675.324675  1675.324675    NaN    NaN    3500.0   \n",
       "\n",
       "                                            properati_url  \\\n",
       "0       http://www.properati.com.ar/15bo8_venta_ph_mat...   \n",
       "1       http://www.properati.com.ar/15bob_venta_depart...   \n",
       "2       http://www.properati.com.ar/15bod_venta_depart...   \n",
       "3       http://www.properati.com.ar/15boh_venta_ph_lin...   \n",
       "4       http://www.properati.com.ar/15bok_venta_depart...   \n",
       "...                                                   ...   \n",
       "121215  http://www.properati.com.ar/1cja2_venta_depart...   \n",
       "121216  http://www.properati.com.ar/1cja6_venta_casa_b...   \n",
       "121217  http://www.properati.com.ar/1cja7_venta_depart...   \n",
       "121218  http://www.properati.com.ar/1cja8_venta_depart...   \n",
       "121219  http://www.properati.com.ar/1cjaa_venta_depart...   \n",
       "\n",
       "                                              description  \\\n",
       "0       2 AMBIENTES TIPO CASA PLANTA BAJA POR PASILLO,...   \n",
       "1       Venta de departamento en décimo piso al frente...   \n",
       "2       2 AMBIENTES 3ER PISO LATERAL LIVING COMEDOR AM...   \n",
       "3       PH 3 ambientes con patio. Hay 3 deptos en lote...   \n",
       "4       DEPARTAMENTO CON FANTÁSTICA ILUMINACIÓN NATURA...   \n",
       "...                                                   ...   \n",
       "121215  TORRE FORUM ALCORTA - MÁXIMA CATEGORÍA.Impecab...   \n",
       "121216  Excelente e impecable casa en Venta en Las Lom...   \n",
       "121217  VENTA DEPARTAMENTO AMBIENTE DIVISIBLE A ESTREN...   \n",
       "121218  2 Amb al contrafrente,  luminoso. El departame...   \n",
       "121219  Departamento de 77 m2 apto profesional. Edific...   \n",
       "\n",
       "                                                    title  \\\n",
       "0                      2 AMB TIPO CASA SIN EXPENSAS EN PB   \n",
       "1       VENTA Depto 2 dorm. a estrenar 7 e/ 36 y 37   ...   \n",
       "2                2 AMB 3ER PISO CON ASCENSOR APTO CREDITO   \n",
       "3                            PH 3 amb. cfte. reciclado      \n",
       "4       DEPTO 2 AMB AL CONTRAFRENTE ZONA CENTRO/PLAZA ...   \n",
       "...                                                   ...   \n",
       "121215         Torre Forum Alcorta- Impecable 3 ambientes   \n",
       "121216  Ruca Inmuebles | Venta | Lomas de San Isidro |...   \n",
       "121217  VENTA DEPARTAMENTO AMBIENTE DIVISIBLE A ESTREN...   \n",
       "121218  2 amb. C/ dep. de servicio al contrafrente| Re...   \n",
       "121219         Departamento apto profesional en el Centro   \n",
       "\n",
       "                                          image_thumbnail  \n",
       "0       https://thumbs4.properati.com/8/BluUYiHJLhgIIK...  \n",
       "1       https://thumbs4.properati.com/7/ikpVBu2ztHA7jv...  \n",
       "2       https://thumbs4.properati.com/5/SXKr34F_IwG3W_...  \n",
       "3       https://thumbs4.properati.com/3/DgIfX-85Mog5SP...  \n",
       "4       https://thumbs4.properati.com/5/xrRqlNcSI_vs-f...  \n",
       "...                                                   ...  \n",
       "121215  https://thumbs4.properati.com/1/bjms0KnaAnlNoQ...  \n",
       "121216  https://thumbs4.properati.com/2/PCc3WuQDjpNZc4...  \n",
       "121217  https://thumbs4.properati.com/9/YAe_-2gRVykADP...  \n",
       "121218  https://thumbs4.properati.com/8/Q12PTvU6BQJ0ib...  \n",
       "121219  https://thumbs4.properati.com/8/mNEsnQWqB7joBF...  \n",
       "\n",
       "[121220 rows x 26 columns]"
      ]
     },
     "execution_count": 7,
     "metadata": {},
     "output_type": "execute_result"
    }
   ],
   "source": [
    "#Leo el dataset y lo asigno a una variable\n",
    "\n",
    "dataset_original = pd.read_csv(\"../data/properatti.csv\", sep = \",\")\n",
    "dataset_original"
   ]
  },
  {
   "cell_type": "code",
   "execution_count": 3,
   "id": "a9ac2ea5",
   "metadata": {
    "scrolled": true
   },
   "outputs": [
    {
     "name": "stdout",
     "output_type": "stream",
     "text": [
      "Tamaño del dataset: (121220, 26)\n"
     ]
    }
   ],
   "source": [
    "print(\"Tamaño del dataset:\", dataset_original.shape)"
   ]
  },
  {
   "cell_type": "markdown",
   "id": "1ce3fcb2",
   "metadata": {},
   "source": [
    "# Análisis global"
   ]
  },
  {
   "cell_type": "markdown",
   "id": "6af331bf",
   "metadata": {},
   "source": [
    "Primero, elimino variables innecesarias para obtener mayor claridad a la hora de analizar / limpiar el dataset"
   ]
  },
  {
   "cell_type": "markdown",
   "id": "63d7c484",
   "metadata": {},
   "source": [
    "#### Unnamed 0"
   ]
  },
  {
   "cell_type": "code",
   "execution_count": 4,
   "id": "a0abfec0",
   "metadata": {},
   "outputs": [],
   "source": [
    "# La variable Unnamed: 0, es un índice repetido. Por lo que, la elimino.\n",
    "\n",
    "dataset = dataset_original.drop(\"Unnamed: 0\", axis = 1)"
   ]
  },
  {
   "cell_type": "markdown",
   "id": "9a525ae9",
   "metadata": {},
   "source": [
    "#### Operation"
   ]
  },
  {
   "cell_type": "code",
   "execution_count": 5,
   "id": "c6d91601",
   "metadata": {},
   "outputs": [
    {
     "data": {
      "text/plain": [
       "0"
      ]
     },
     "execution_count": 5,
     "metadata": {},
     "output_type": "execute_result"
    }
   ],
   "source": [
    "# Muestro la cantidad de filas en la columna Operation que sean distintas a \"sell\"\n",
    "\n",
    "dataset_original.loc[dataset_original[\"operation\"] != \"sell\", \"operation\"].sum()"
   ]
  },
  {
   "cell_type": "code",
   "execution_count": 6,
   "id": "e0577e86",
   "metadata": {},
   "outputs": [],
   "source": [
    "#Ya que todas las filas contienen el dato \"sell\", elimino la variable Operation\n",
    "\n",
    "dataset.drop(\"operation\", axis = 1, inplace = True)"
   ]
  },
  {
   "cell_type": "markdown",
   "id": "83cc1b2f",
   "metadata": {},
   "source": [
    "#### Country name"
   ]
  },
  {
   "cell_type": "code",
   "execution_count": 7,
   "id": "0a2d1df6",
   "metadata": {
    "scrolled": true
   },
   "outputs": [
    {
     "data": {
      "text/plain": [
       "0"
      ]
     },
     "execution_count": 7,
     "metadata": {},
     "output_type": "execute_result"
    }
   ],
   "source": [
    "# Verifico si existe alguna fila de country name distinta al dato \"Argentina\" o que sea nula.\n",
    "\n",
    "dataset_original.country_name.loc[(dataset_original.country_name != \"Argentina\") | (dataset_original.country_name.isnull()) ].sum()"
   ]
  },
  {
   "cell_type": "code",
   "execution_count": 8,
   "id": "cdccd8d6",
   "metadata": {},
   "outputs": [],
   "source": [
    "# Elimino la variable country name\n",
    "\n",
    "dataset.drop(\"country_name\", axis = 1, inplace = True)"
   ]
  },
  {
   "cell_type": "markdown",
   "id": "47ec6ec7",
   "metadata": {},
   "source": [
    "#### Lat - Lon"
   ]
  },
  {
   "cell_type": "markdown",
   "id": "570a6f72",
   "metadata": {},
   "source": [
    "Las variables Lat y Lon se encuentran contenidas dentro de la variable lat-lon por lo que, la variable agrupadora Lat-Lon podría ser eliminada"
   ]
  },
  {
   "cell_type": "code",
   "execution_count": 9,
   "id": "9f31de86",
   "metadata": {
    "scrolled": true
   },
   "outputs": [
    {
     "data": {
      "text/html": [
       "<div>\n",
       "<style scoped>\n",
       "    .dataframe tbody tr th:only-of-type {\n",
       "        vertical-align: middle;\n",
       "    }\n",
       "\n",
       "    .dataframe tbody tr th {\n",
       "        vertical-align: top;\n",
       "    }\n",
       "\n",
       "    .dataframe thead th {\n",
       "        text-align: right;\n",
       "    }\n",
       "</style>\n",
       "<table border=\"1\" class=\"dataframe\">\n",
       "  <thead>\n",
       "    <tr style=\"text-align: right;\">\n",
       "      <th></th>\n",
       "      <th>lat-lon</th>\n",
       "      <th>lat</th>\n",
       "      <th>lon</th>\n",
       "    </tr>\n",
       "  </thead>\n",
       "  <tbody>\n",
       "  </tbody>\n",
       "</table>\n",
       "</div>"
      ],
      "text/plain": [
       "Empty DataFrame\n",
       "Columns: [lat-lon, lat, lon]\n",
       "Index: []"
      ]
     },
     "execution_count": 9,
     "metadata": {},
     "output_type": "execute_result"
    }
   ],
   "source": [
    "# Analizo si alguna fila de Lat o Lon tiene Nans que puedan ser completados con Lat-Lon\n",
    "\n",
    "dataset_original.loc[(dataset_original[\"lat-lon\"].notnull()) & ((dataset_original[\"lat\"].isnull()) | (dataset_original[\"lon\"].isnull())), [\"lat-lon\", \"lat\", \"lon\"]]"
   ]
  },
  {
   "cell_type": "code",
   "execution_count": 10,
   "id": "94e0f38c",
   "metadata": {},
   "outputs": [],
   "source": [
    "# Elimino la variable lat-lon\n",
    "\n",
    "dataset.drop(\"lat-lon\", axis = 1, inplace = True)\n"
   ]
  },
  {
   "cell_type": "markdown",
   "id": "c933d420",
   "metadata": {},
   "source": [
    "#### Place with parent names"
   ]
  },
  {
   "cell_type": "markdown",
   "id": "e9008c4f",
   "metadata": {},
   "source": [
    "Esta variable es una acumulación de otras 3 columnas por lo cual, la descarto ya que prefiero las variables individuales"
   ]
  },
  {
   "cell_type": "markdown",
   "id": "b605148e",
   "metadata": {},
   "source": [
    "Antes de eliminarla, me percato de que tengo nans en place name que pueden ser rellenados con información obtenida de esta variable"
   ]
  },
  {
   "cell_type": "code",
   "execution_count": 11,
   "id": "8a5e1aec",
   "metadata": {},
   "outputs": [
    {
     "data": {
      "text/html": [
       "<div>\n",
       "<style scoped>\n",
       "    .dataframe tbody tr th:only-of-type {\n",
       "        vertical-align: middle;\n",
       "    }\n",
       "\n",
       "    .dataframe tbody tr th {\n",
       "        vertical-align: top;\n",
       "    }\n",
       "\n",
       "    .dataframe thead th {\n",
       "        text-align: right;\n",
       "    }\n",
       "</style>\n",
       "<table border=\"1\" class=\"dataframe\">\n",
       "  <thead>\n",
       "    <tr style=\"text-align: right;\">\n",
       "      <th></th>\n",
       "      <th>place_name</th>\n",
       "      <th>place_with_parent_names</th>\n",
       "    </tr>\n",
       "  </thead>\n",
       "  <tbody>\n",
       "    <tr>\n",
       "      <th>6489</th>\n",
       "      <td>NaN</td>\n",
       "      <td>|Argentina|Bs.As. G.B.A. Zona Norte|Tigre||</td>\n",
       "    </tr>\n",
       "    <tr>\n",
       "      <th>10201</th>\n",
       "      <td>NaN</td>\n",
       "      <td>|Argentina|Bs.As. G.B.A. Zona Norte|Tigre||</td>\n",
       "    </tr>\n",
       "    <tr>\n",
       "      <th>11451</th>\n",
       "      <td>NaN</td>\n",
       "      <td>|Argentina|Bs.As. G.B.A. Zona Norte|Tigre||</td>\n",
       "    </tr>\n",
       "    <tr>\n",
       "      <th>14839</th>\n",
       "      <td>NaN</td>\n",
       "      <td>|Argentina|Bs.As. G.B.A. Zona Norte|Tigre||</td>\n",
       "    </tr>\n",
       "    <tr>\n",
       "      <th>18622</th>\n",
       "      <td>NaN</td>\n",
       "      <td>|Argentina|Bs.As. G.B.A. Zona Norte|Tigre||</td>\n",
       "    </tr>\n",
       "    <tr>\n",
       "      <th>21922</th>\n",
       "      <td>NaN</td>\n",
       "      <td>|Argentina|Bs.As. G.B.A. Zona Norte|Tigre||</td>\n",
       "    </tr>\n",
       "    <tr>\n",
       "      <th>23664</th>\n",
       "      <td>NaN</td>\n",
       "      <td>|Argentina|Bs.As. G.B.A. Zona Norte|Tigre||</td>\n",
       "    </tr>\n",
       "    <tr>\n",
       "      <th>24722</th>\n",
       "      <td>NaN</td>\n",
       "      <td>|Argentina|Bs.As. G.B.A. Zona Norte|Tigre||</td>\n",
       "    </tr>\n",
       "    <tr>\n",
       "      <th>38856</th>\n",
       "      <td>NaN</td>\n",
       "      <td>|Argentina|Bs.As. G.B.A. Zona Norte|Tigre||</td>\n",
       "    </tr>\n",
       "    <tr>\n",
       "      <th>45970</th>\n",
       "      <td>NaN</td>\n",
       "      <td>|Argentina|Bs.As. G.B.A. Zona Norte|Tigre||</td>\n",
       "    </tr>\n",
       "    <tr>\n",
       "      <th>46642</th>\n",
       "      <td>NaN</td>\n",
       "      <td>|Argentina|Bs.As. G.B.A. Zona Norte|Tigre||</td>\n",
       "    </tr>\n",
       "    <tr>\n",
       "      <th>53130</th>\n",
       "      <td>NaN</td>\n",
       "      <td>|Argentina|Bs.As. G.B.A. Zona Norte|Tigre||</td>\n",
       "    </tr>\n",
       "    <tr>\n",
       "      <th>55306</th>\n",
       "      <td>NaN</td>\n",
       "      <td>|Argentina|Bs.As. G.B.A. Zona Norte|Tigre||</td>\n",
       "    </tr>\n",
       "    <tr>\n",
       "      <th>57703</th>\n",
       "      <td>NaN</td>\n",
       "      <td>|Argentina|Bs.As. G.B.A. Zona Norte|Tigre||</td>\n",
       "    </tr>\n",
       "    <tr>\n",
       "      <th>57759</th>\n",
       "      <td>NaN</td>\n",
       "      <td>|Argentina|Bs.As. G.B.A. Zona Norte|Tigre||</td>\n",
       "    </tr>\n",
       "    <tr>\n",
       "      <th>57764</th>\n",
       "      <td>NaN</td>\n",
       "      <td>|Argentina|Bs.As. G.B.A. Zona Norte|Tigre||</td>\n",
       "    </tr>\n",
       "    <tr>\n",
       "      <th>57793</th>\n",
       "      <td>NaN</td>\n",
       "      <td>|Argentina|Bs.As. G.B.A. Zona Norte|Tigre||</td>\n",
       "    </tr>\n",
       "    <tr>\n",
       "      <th>58004</th>\n",
       "      <td>NaN</td>\n",
       "      <td>|Argentina|Bs.As. G.B.A. Zona Norte|Tigre||</td>\n",
       "    </tr>\n",
       "    <tr>\n",
       "      <th>58037</th>\n",
       "      <td>NaN</td>\n",
       "      <td>|Argentina|Bs.As. G.B.A. Zona Norte|Tigre||</td>\n",
       "    </tr>\n",
       "    <tr>\n",
       "      <th>59069</th>\n",
       "      <td>NaN</td>\n",
       "      <td>|Argentina|Bs.As. G.B.A. Zona Norte|Tigre||</td>\n",
       "    </tr>\n",
       "    <tr>\n",
       "      <th>62411</th>\n",
       "      <td>NaN</td>\n",
       "      <td>|Argentina|Bs.As. G.B.A. Zona Norte|Tigre||</td>\n",
       "    </tr>\n",
       "    <tr>\n",
       "      <th>62413</th>\n",
       "      <td>NaN</td>\n",
       "      <td>|Argentina|Bs.As. G.B.A. Zona Norte|Tigre||</td>\n",
       "    </tr>\n",
       "    <tr>\n",
       "      <th>63849</th>\n",
       "      <td>NaN</td>\n",
       "      <td>|Argentina|Bs.As. G.B.A. Zona Norte|Tigre||</td>\n",
       "    </tr>\n",
       "  </tbody>\n",
       "</table>\n",
       "</div>"
      ],
      "text/plain": [
       "      place_name                      place_with_parent_names\n",
       "6489         NaN  |Argentina|Bs.As. G.B.A. Zona Norte|Tigre||\n",
       "10201        NaN  |Argentina|Bs.As. G.B.A. Zona Norte|Tigre||\n",
       "11451        NaN  |Argentina|Bs.As. G.B.A. Zona Norte|Tigre||\n",
       "14839        NaN  |Argentina|Bs.As. G.B.A. Zona Norte|Tigre||\n",
       "18622        NaN  |Argentina|Bs.As. G.B.A. Zona Norte|Tigre||\n",
       "21922        NaN  |Argentina|Bs.As. G.B.A. Zona Norte|Tigre||\n",
       "23664        NaN  |Argentina|Bs.As. G.B.A. Zona Norte|Tigre||\n",
       "24722        NaN  |Argentina|Bs.As. G.B.A. Zona Norte|Tigre||\n",
       "38856        NaN  |Argentina|Bs.As. G.B.A. Zona Norte|Tigre||\n",
       "45970        NaN  |Argentina|Bs.As. G.B.A. Zona Norte|Tigre||\n",
       "46642        NaN  |Argentina|Bs.As. G.B.A. Zona Norte|Tigre||\n",
       "53130        NaN  |Argentina|Bs.As. G.B.A. Zona Norte|Tigre||\n",
       "55306        NaN  |Argentina|Bs.As. G.B.A. Zona Norte|Tigre||\n",
       "57703        NaN  |Argentina|Bs.As. G.B.A. Zona Norte|Tigre||\n",
       "57759        NaN  |Argentina|Bs.As. G.B.A. Zona Norte|Tigre||\n",
       "57764        NaN  |Argentina|Bs.As. G.B.A. Zona Norte|Tigre||\n",
       "57793        NaN  |Argentina|Bs.As. G.B.A. Zona Norte|Tigre||\n",
       "58004        NaN  |Argentina|Bs.As. G.B.A. Zona Norte|Tigre||\n",
       "58037        NaN  |Argentina|Bs.As. G.B.A. Zona Norte|Tigre||\n",
       "59069        NaN  |Argentina|Bs.As. G.B.A. Zona Norte|Tigre||\n",
       "62411        NaN  |Argentina|Bs.As. G.B.A. Zona Norte|Tigre||\n",
       "62413        NaN  |Argentina|Bs.As. G.B.A. Zona Norte|Tigre||\n",
       "63849        NaN  |Argentina|Bs.As. G.B.A. Zona Norte|Tigre||"
      ]
     },
     "execution_count": 11,
     "metadata": {},
     "output_type": "execute_result"
    }
   ],
   "source": [
    "# Muestro los Nan alojados en la variable place name\n",
    "\n",
    "dataset.loc[dataset.place_name.isnull(), [\"place_name\", \"place_with_parent_names\"]]"
   ]
  },
  {
   "cell_type": "markdown",
   "id": "1b17a99d",
   "metadata": {},
   "source": [
    "Gracias a la información brindada por la columna place with parent names, puedo imputar el dato \"Tigre\" en todos los Nan de place name"
   ]
  },
  {
   "cell_type": "code",
   "execution_count": 12,
   "id": "132c0bb9",
   "metadata": {},
   "outputs": [],
   "source": [
    "dataset.place_name.fillna(\"Tigre\", inplace = True)"
   ]
  },
  {
   "cell_type": "markdown",
   "id": "70b05c83",
   "metadata": {},
   "source": [
    "Debido a que las variables place name y state name no tienen ningun Nan, elimino a la variable place with parent names la cual, contiene a ambas"
   ]
  },
  {
   "cell_type": "code",
   "execution_count": 13,
   "id": "73f2166a",
   "metadata": {},
   "outputs": [],
   "source": [
    "dataset.drop(\"place_with_parent_names\", axis = 1, inplace = True)"
   ]
  },
  {
   "cell_type": "markdown",
   "id": "c19fbaf3",
   "metadata": {},
   "source": [
    "#### Price y Currency"
   ]
  },
  {
   "cell_type": "markdown",
   "id": "c6411a08",
   "metadata": {},
   "source": [
    "Cuando la variable currency:\n",
    "\n",
    "   * Caso 1: Tiene como dato \"ARS\", la variable price se convierte en un redondedo de la variable price aprox local currency\n",
    "    \n",
    "   * Caso 2: Tiene como dato \"USD\", la variable price es igual a price aprox usd\n",
    "    \n",
    "   * Caso 3: Tiene como dato otro tipo de moneda, asumo que la conversión a \"ARS\" y \"USD\" es la correcta\n"
   ]
  },
  {
   "cell_type": "code",
   "execution_count": 14,
   "id": "e863ddee",
   "metadata": {
    "scrolled": false
   },
   "outputs": [
    {
     "data": {
      "text/html": [
       "<div>\n",
       "<style scoped>\n",
       "    .dataframe tbody tr th:only-of-type {\n",
       "        vertical-align: middle;\n",
       "    }\n",
       "\n",
       "    .dataframe tbody tr th {\n",
       "        vertical-align: top;\n",
       "    }\n",
       "\n",
       "    .dataframe thead th {\n",
       "        text-align: right;\n",
       "    }\n",
       "</style>\n",
       "<table border=\"1\" class=\"dataframe\">\n",
       "  <thead>\n",
       "    <tr style=\"text-align: right;\">\n",
       "      <th></th>\n",
       "      <th>price</th>\n",
       "      <th>currency</th>\n",
       "      <th>price_aprox_local_currency</th>\n",
       "      <th>price_aprox_usd</th>\n",
       "    </tr>\n",
       "  </thead>\n",
       "  <tbody>\n",
       "    <tr>\n",
       "      <th>9</th>\n",
       "      <td>460000.0</td>\n",
       "      <td>ARS</td>\n",
       "      <td>455201.45</td>\n",
       "      <td>25798.49</td>\n",
       "    </tr>\n",
       "    <tr>\n",
       "      <th>32</th>\n",
       "      <td>550000.0</td>\n",
       "      <td>ARS</td>\n",
       "      <td>544262.59</td>\n",
       "      <td>30846.02</td>\n",
       "    </tr>\n",
       "    <tr>\n",
       "      <th>37</th>\n",
       "      <td>1250000.0</td>\n",
       "      <td>ARS</td>\n",
       "      <td>1236960.43</td>\n",
       "      <td>70104.59</td>\n",
       "    </tr>\n",
       "    <tr>\n",
       "      <th>78</th>\n",
       "      <td>5500000.0</td>\n",
       "      <td>ARS</td>\n",
       "      <td>5442626.35</td>\n",
       "      <td>308460.22</td>\n",
       "    </tr>\n",
       "    <tr>\n",
       "      <th>97</th>\n",
       "      <td>1423800.0</td>\n",
       "      <td>ARS</td>\n",
       "      <td>1408947.37</td>\n",
       "      <td>79851.93</td>\n",
       "    </tr>\n",
       "  </tbody>\n",
       "</table>\n",
       "</div>"
      ],
      "text/plain": [
       "        price currency  price_aprox_local_currency  price_aprox_usd\n",
       "9    460000.0      ARS                   455201.45         25798.49\n",
       "32   550000.0      ARS                   544262.59         30846.02\n",
       "37  1250000.0      ARS                  1236960.43         70104.59\n",
       "78  5500000.0      ARS                  5442626.35        308460.22\n",
       "97  1423800.0      ARS                  1408947.37         79851.93"
      ]
     },
     "execution_count": 14,
     "metadata": {},
     "output_type": "execute_result"
    }
   ],
   "source": [
    "# Caso 1:\n",
    "\n",
    "# Muestro por pantalla los registros donde la moneda sea \"ARS\"\n",
    "\n",
    "dataset_original.loc[(dataset_original.currency == \"ARS\"), [\"price\", \"currency\", \"price_aprox_local_currency\", \"price_aprox_usd\"]].head(5)"
   ]
  },
  {
   "cell_type": "code",
   "execution_count": 15,
   "id": "4bd8d50f",
   "metadata": {
    "scrolled": true
   },
   "outputs": [
    {
     "data": {
      "text/html": [
       "<div>\n",
       "<style scoped>\n",
       "    .dataframe tbody tr th:only-of-type {\n",
       "        vertical-align: middle;\n",
       "    }\n",
       "\n",
       "    .dataframe tbody tr th {\n",
       "        vertical-align: top;\n",
       "    }\n",
       "\n",
       "    .dataframe thead th {\n",
       "        text-align: right;\n",
       "    }\n",
       "</style>\n",
       "<table border=\"1\" class=\"dataframe\">\n",
       "  <thead>\n",
       "    <tr style=\"text-align: right;\">\n",
       "      <th></th>\n",
       "      <th>price</th>\n",
       "      <th>currency</th>\n",
       "      <th>price_aprox_local_currency</th>\n",
       "      <th>price_aprox_usd</th>\n",
       "    </tr>\n",
       "  </thead>\n",
       "  <tbody>\n",
       "    <tr>\n",
       "      <th>0</th>\n",
       "      <td>62000.0</td>\n",
       "      <td>USD</td>\n",
       "      <td>1093959.0</td>\n",
       "      <td>62000.0</td>\n",
       "    </tr>\n",
       "    <tr>\n",
       "      <th>1</th>\n",
       "      <td>150000.0</td>\n",
       "      <td>USD</td>\n",
       "      <td>2646675.0</td>\n",
       "      <td>150000.0</td>\n",
       "    </tr>\n",
       "    <tr>\n",
       "      <th>2</th>\n",
       "      <td>72000.0</td>\n",
       "      <td>USD</td>\n",
       "      <td>1270404.0</td>\n",
       "      <td>72000.0</td>\n",
       "    </tr>\n",
       "    <tr>\n",
       "      <th>3</th>\n",
       "      <td>95000.0</td>\n",
       "      <td>USD</td>\n",
       "      <td>1676227.5</td>\n",
       "      <td>95000.0</td>\n",
       "    </tr>\n",
       "    <tr>\n",
       "      <th>4</th>\n",
       "      <td>64000.0</td>\n",
       "      <td>USD</td>\n",
       "      <td>1129248.0</td>\n",
       "      <td>64000.0</td>\n",
       "    </tr>\n",
       "  </tbody>\n",
       "</table>\n",
       "</div>"
      ],
      "text/plain": [
       "      price currency  price_aprox_local_currency  price_aprox_usd\n",
       "0   62000.0      USD                   1093959.0          62000.0\n",
       "1  150000.0      USD                   2646675.0         150000.0\n",
       "2   72000.0      USD                   1270404.0          72000.0\n",
       "3   95000.0      USD                   1676227.5          95000.0\n",
       "4   64000.0      USD                   1129248.0          64000.0"
      ]
     },
     "execution_count": 15,
     "metadata": {},
     "output_type": "execute_result"
    }
   ],
   "source": [
    "# Caso 2:\n",
    "\n",
    "# Muestro por pantalla los registros donde la moneda sea \"USD\"\n",
    "\n",
    "dataset_original.loc[(dataset_original.currency == \"USD\"), [\"price\", \"currency\", \"price_aprox_local_currency\", \"price_aprox_usd\"]].head(5)"
   ]
  },
  {
   "cell_type": "code",
   "execution_count": 16,
   "id": "798c2e97",
   "metadata": {
    "scrolled": true
   },
   "outputs": [
    {
     "data": {
      "text/html": [
       "<div>\n",
       "<style scoped>\n",
       "    .dataframe tbody tr th:only-of-type {\n",
       "        vertical-align: middle;\n",
       "    }\n",
       "\n",
       "    .dataframe tbody tr th {\n",
       "        vertical-align: top;\n",
       "    }\n",
       "\n",
       "    .dataframe thead th {\n",
       "        text-align: right;\n",
       "    }\n",
       "</style>\n",
       "<table border=\"1\" class=\"dataframe\">\n",
       "  <thead>\n",
       "    <tr style=\"text-align: right;\">\n",
       "      <th></th>\n",
       "      <th>price</th>\n",
       "      <th>currency</th>\n",
       "      <th>price_aprox_local_currency</th>\n",
       "      <th>price_aprox_usd</th>\n",
       "    </tr>\n",
       "  </thead>\n",
       "  <tbody>\n",
       "    <tr>\n",
       "      <th>50387</th>\n",
       "      <td>380000.0</td>\n",
       "      <td>PEN</td>\n",
       "      <td>2.066865e+06</td>\n",
       "      <td>117139.33</td>\n",
       "    </tr>\n",
       "    <tr>\n",
       "      <th>50388</th>\n",
       "      <td>950000.0</td>\n",
       "      <td>PEN</td>\n",
       "      <td>5.167162e+06</td>\n",
       "      <td>292848.33</td>\n",
       "    </tr>\n",
       "    <tr>\n",
       "      <th>107390</th>\n",
       "      <td>650000000.0</td>\n",
       "      <td>UYU</td>\n",
       "      <td>4.054773e+08</td>\n",
       "      <td>22980378.29</td>\n",
       "    </tr>\n",
       "  </tbody>\n",
       "</table>\n",
       "</div>"
      ],
      "text/plain": [
       "              price currency  price_aprox_local_currency  price_aprox_usd\n",
       "50387      380000.0      PEN                2.066865e+06        117139.33\n",
       "50388      950000.0      PEN                5.167162e+06        292848.33\n",
       "107390  650000000.0      UYU                4.054773e+08      22980378.29"
      ]
     },
     "execution_count": 16,
     "metadata": {},
     "output_type": "execute_result"
    }
   ],
   "source": [
    "# Caso 3:\n",
    "\n",
    "# Muestro por pantalla los registros donde la moneda no sea \"ARS\" ni \"USD\". Además, solo muestro los registros que no sean nulos.\n",
    "\n",
    "dataset_original.loc[(dataset_original.currency != \"ARS\") & (dataset_original.currency != \"USD\") & (dataset_original.currency.notnull()), [\"price\", \"currency\", \"price_aprox_local_currency\", \"price_aprox_usd\"]]"
   ]
  },
  {
   "cell_type": "code",
   "execution_count": 17,
   "id": "9b4e427a",
   "metadata": {},
   "outputs": [
    {
     "data": {
      "text/html": [
       "<div>\n",
       "<style scoped>\n",
       "    .dataframe tbody tr th:only-of-type {\n",
       "        vertical-align: middle;\n",
       "    }\n",
       "\n",
       "    .dataframe tbody tr th {\n",
       "        vertical-align: top;\n",
       "    }\n",
       "\n",
       "    .dataframe thead th {\n",
       "        text-align: right;\n",
       "    }\n",
       "</style>\n",
       "<table border=\"1\" class=\"dataframe\">\n",
       "  <thead>\n",
       "    <tr style=\"text-align: right;\">\n",
       "      <th></th>\n",
       "      <th>price</th>\n",
       "      <th>currency</th>\n",
       "      <th>price_aprox_local_currency</th>\n",
       "      <th>price_aprox_usd</th>\n",
       "    </tr>\n",
       "  </thead>\n",
       "  <tbody>\n",
       "  </tbody>\n",
       "</table>\n",
       "</div>"
      ],
      "text/plain": [
       "Empty DataFrame\n",
       "Columns: [price, currency, price_aprox_local_currency, price_aprox_usd]\n",
       "Index: []"
      ]
     },
     "execution_count": 17,
     "metadata": {},
     "output_type": "execute_result"
    }
   ],
   "source": [
    "# Analizo si la variable price me puede servir para llenar un campo de price aprox local currency o price aprox usd que este vacio\n",
    "\n",
    "dataset_original.loc[(dataset_original.price.notnull()) & (dataset_original.price_aprox_local_currency.isnull() | dataset_original.price_aprox_usd.isnull()), [\"price\", \"currency\", \"price_aprox_local_currency\", \"price_aprox_usd\"]]"
   ]
  },
  {
   "cell_type": "markdown",
   "id": "e97fbb0c",
   "metadata": {},
   "source": [
    "Teniendo en cuenta que las monedas más utilizadas en el dataset son \"ARS\" y \"USD\", me quedo únicamente con las variables price aprox local currency y price aprox usd."
   ]
  },
  {
   "cell_type": "code",
   "execution_count": 18,
   "id": "432b5587",
   "metadata": {},
   "outputs": [],
   "source": [
    "# Descarto price y currency\n",
    "\n",
    "dataset.drop(\"price\", axis = 1, inplace = True)\n",
    "dataset.drop(\"currency\", axis = 1, inplace = True)"
   ]
  },
  {
   "cell_type": "markdown",
   "id": "79bc233f",
   "metadata": {},
   "source": [
    "#### Price aprox local currency"
   ]
  },
  {
   "cell_type": "markdown",
   "id": "dd950056",
   "metadata": {},
   "source": [
    "Antes de eliminar esta variable, la utilizo para calcular el valor del dólar\n",
    "\n",
    "Conversión: Precio en moneda local / Precio en dólares = Valor del dólar"
   ]
  },
  {
   "cell_type": "code",
   "execution_count": 19,
   "id": "99746dee",
   "metadata": {},
   "outputs": [],
   "source": [
    "# Creo un dataset con las filas que no tengan nulos ni ceros en price aprox usd\n",
    "\n",
    "dataset_dolar = dataset.loc[(dataset_original.price_aprox_usd.notnull()) & (dataset_original.price_aprox_usd != 0)]\n",
    "\n",
    "# Realizo la conversión para cada fila y calculo el promedio.\n",
    "\n",
    "valor_dolar = dataset_dolar.apply(lambda x: x[\"price_aprox_local_currency\"] / x[\"price_aprox_usd\"], axis = 1).mean()"
   ]
  },
  {
   "cell_type": "code",
   "execution_count": 20,
   "id": "4f5ba563",
   "metadata": {
    "scrolled": true
   },
   "outputs": [
    {
     "data": {
      "text/html": [
       "<div>\n",
       "<style scoped>\n",
       "    .dataframe tbody tr th:only-of-type {\n",
       "        vertical-align: middle;\n",
       "    }\n",
       "\n",
       "    .dataframe tbody tr th {\n",
       "        vertical-align: top;\n",
       "    }\n",
       "\n",
       "    .dataframe thead th {\n",
       "        text-align: right;\n",
       "    }\n",
       "</style>\n",
       "<table border=\"1\" class=\"dataframe\">\n",
       "  <thead>\n",
       "    <tr style=\"text-align: right;\">\n",
       "      <th></th>\n",
       "      <th>price_aprox_local_currency</th>\n",
       "      <th>price_aprox_usd</th>\n",
       "    </tr>\n",
       "  </thead>\n",
       "  <tbody>\n",
       "  </tbody>\n",
       "</table>\n",
       "</div>"
      ],
      "text/plain": [
       "Empty DataFrame\n",
       "Columns: [price_aprox_local_currency, price_aprox_usd]\n",
       "Index: []"
      ]
     },
     "execution_count": 20,
     "metadata": {},
     "output_type": "execute_result"
    }
   ],
   "source": [
    "# Verifico que no haya ninguna fila de price aprox usd nula la cual pueda rellenar con price aprox local currency\n",
    "\n",
    "dataset_original.loc[(dataset_original.price_aprox_local_currency.notnull()) & (dataset_original.price_aprox_usd.isnull()), [\"price_aprox_local_currency\", \"price_aprox_usd\"]]"
   ]
  },
  {
   "cell_type": "code",
   "execution_count": 21,
   "id": "ca7c6ff2",
   "metadata": {},
   "outputs": [],
   "source": [
    "# Descarto price aprox local currency ya que, utilizare precios en USD\n",
    "\n",
    "dataset.drop(\"price_aprox_local_currency\", axis = 1, inplace = True)"
   ]
  },
  {
   "cell_type": "markdown",
   "id": "87d5577d",
   "metadata": {},
   "source": [
    "#### Geonames id, Properati url e Image thumbnail"
   ]
  },
  {
   "cell_type": "code",
   "execution_count": 22,
   "id": "1a71c1d8",
   "metadata": {},
   "outputs": [],
   "source": [
    "# Estas variables no aportan al fin de predecir el precio de un inmueble por lo que, las elimino.\n",
    "\n",
    "dataset.drop(\"geonames_id\", axis = 1, inplace = True)\n",
    "dataset.drop(\"properati_url\", axis = 1, inplace = True)\n",
    "dataset.drop(\"image_thumbnail\", axis = 1, inplace = True)"
   ]
  },
  {
   "cell_type": "markdown",
   "id": "c1e57ad0",
   "metadata": {},
   "source": [
    "### Registros duplicados"
   ]
  },
  {
   "cell_type": "code",
   "execution_count": 23,
   "id": "b4213847",
   "metadata": {
    "scrolled": true
   },
   "outputs": [
    {
     "name": "stdout",
     "output_type": "stream",
     "text": [
      "Cantidad de registros duplicados: 5086\n"
     ]
    }
   ],
   "source": [
    "# Analizo la cantidad de filas duplicadas\n",
    "\n",
    "print(\"Cantidad de registros duplicados:\", (dataset[dataset.duplicated()].shape)[0])"
   ]
  },
  {
   "cell_type": "code",
   "execution_count": 24,
   "id": "d83043ca",
   "metadata": {},
   "outputs": [],
   "source": [
    "# Elimino los registros duplicados\n",
    "\n",
    "dataset.drop_duplicates(inplace = True)"
   ]
  },
  {
   "cell_type": "markdown",
   "id": "fc2cea82",
   "metadata": {},
   "source": [
    "### Nans por columna"
   ]
  },
  {
   "cell_type": "code",
   "execution_count": 25,
   "id": "fa583d3d",
   "metadata": {
    "scrolled": true
   },
   "outputs": [],
   "source": [
    "# Analizo la cantidad de Nans por columna en todo el dataset\n",
    "\n",
    "nulos_globales = dataset.apply(lambda x: x.isnull().sum())"
   ]
  },
  {
   "cell_type": "markdown",
   "id": "5b9ffe3d",
   "metadata": {},
   "source": [
    "### Nans por columna en porcentaje"
   ]
  },
  {
   "cell_type": "code",
   "execution_count": 26,
   "id": "c4a7836e",
   "metadata": {},
   "outputs": [
    {
     "data": {
      "text/plain": [
       "property_type             0.00\n",
       "place_name                0.00\n",
       "state_name                0.00\n",
       "lat                      41.58\n",
       "lon                      41.58\n",
       "price_aprox_usd          15.12\n",
       "surface_total_in_m2      33.05\n",
       "surface_covered_in_m2    16.23\n",
       "price_usd_per_m2         42.44\n",
       "price_per_m2             26.21\n",
       "floor                    93.41\n",
       "rooms                    60.22\n",
       "expenses                 87.87\n",
       "description               0.00\n",
       "title                     0.00\n",
       "dtype: float64"
      ]
     },
     "execution_count": 26,
     "metadata": {},
     "output_type": "execute_result"
    }
   ],
   "source": [
    "# Analizo la cantidad de Nans por columna en todo el dataset a modo de porcentajes\n",
    "\n",
    "nulos_globales.apply(lambda x: round((x * 100) / len(dataset), 2))"
   ]
  },
  {
   "cell_type": "markdown",
   "id": "264186ec",
   "metadata": {},
   "source": [
    "### Propiedades por provincia"
   ]
  },
  {
   "cell_type": "code",
   "execution_count": 27,
   "id": "d78c8213",
   "metadata": {
    "scrolled": true
   },
   "outputs": [],
   "source": [
    "# Analizo la cantidad de provincias (state name) con su cantidad de registros\n",
    "\n",
    "provincias = dataset.groupby(\"state_name\")[[\"state_name\"]].count()\n",
    "\n",
    "# Renombro y ordeno de mayor a menor para mayor claridad\n",
    "\n",
    "provincias = provincias.rename(columns = {\"state_name\" : \"propiedades\"})\n",
    "provincias = provincias.sort_values(\"propiedades\", ascending = False)"
   ]
  },
  {
   "cell_type": "markdown",
   "id": "8950270a",
   "metadata": {},
   "source": [
    "### Nans en price per m2 por provincia"
   ]
  },
  {
   "cell_type": "code",
   "execution_count": 28,
   "id": "2fbcd1f8",
   "metadata": {
    "scrolled": true
   },
   "outputs": [],
   "source": [
    "# Creo un dataset con todos los registros que tengan Nan en la variable price per m2\n",
    "\n",
    "nulos_en_per_m2 = dataset[dataset.price_per_m2.isnull()]\n",
    "\n",
    "# Agrupo segun state name y cuento la cantidad de registros que son Nan de cada provincia\n",
    "\n",
    "nulos_por_provincia = nulos_en_per_m2.groupby(\"state_name\")[[\"state_name\"]].count()\n",
    "\n",
    "# Renombro y ordeno de mayor a menor para mayor claridad\n",
    "\n",
    "nulos_por_provincia = nulos_por_provincia.rename(columns = {\"state_name\" : \"registros_nulos_price_per_m2\"})\n",
    "nulos_por_provincia = nulos_por_provincia.sort_values(\"registros_nulos_price_per_m2\", ascending = False)"
   ]
  },
  {
   "cell_type": "markdown",
   "id": "fd5da644",
   "metadata": {},
   "source": [
    "### Visualicación en tabla con porcentajes"
   ]
  },
  {
   "cell_type": "code",
   "execution_count": 29,
   "id": "3183ed66",
   "metadata": {
    "scrolled": true
   },
   "outputs": [
    {
     "data": {
      "text/html": [
       "<div>\n",
       "<style scoped>\n",
       "    .dataframe tbody tr th:only-of-type {\n",
       "        vertical-align: middle;\n",
       "    }\n",
       "\n",
       "    .dataframe tbody tr th {\n",
       "        vertical-align: top;\n",
       "    }\n",
       "\n",
       "    .dataframe thead th {\n",
       "        text-align: right;\n",
       "    }\n",
       "</style>\n",
       "<table border=\"1\" class=\"dataframe\">\n",
       "  <thead>\n",
       "    <tr style=\"text-align: right;\">\n",
       "      <th></th>\n",
       "      <th>propiedades</th>\n",
       "      <th>registros_nulos_price_per_m2</th>\n",
       "      <th>porcentaje_de_registros_nulos_price_per_m2</th>\n",
       "    </tr>\n",
       "    <tr>\n",
       "      <th>state_name</th>\n",
       "      <th></th>\n",
       "      <th></th>\n",
       "      <th></th>\n",
       "    </tr>\n",
       "  </thead>\n",
       "  <tbody>\n",
       "    <tr>\n",
       "      <th>Capital Federal</th>\n",
       "      <td>30745</td>\n",
       "      <td>4062</td>\n",
       "      <td>13.0</td>\n",
       "    </tr>\n",
       "    <tr>\n",
       "      <th>Bs.As. G.B.A. Zona Norte</th>\n",
       "      <td>24768</td>\n",
       "      <td>2651</td>\n",
       "      <td>11.0</td>\n",
       "    </tr>\n",
       "    <tr>\n",
       "      <th>Bs.As. G.B.A. Zona Sur</th>\n",
       "      <td>13556</td>\n",
       "      <td>3964</td>\n",
       "      <td>29.0</td>\n",
       "    </tr>\n",
       "    <tr>\n",
       "      <th>Córdoba</th>\n",
       "      <td>11580</td>\n",
       "      <td>5228</td>\n",
       "      <td>45.0</td>\n",
       "    </tr>\n",
       "    <tr>\n",
       "      <th>Buenos Aires Costa Atlántica</th>\n",
       "      <td>9914</td>\n",
       "      <td>3065</td>\n",
       "      <td>31.0</td>\n",
       "    </tr>\n",
       "    <tr>\n",
       "      <th>Bs.As. G.B.A. Zona Oeste</th>\n",
       "      <td>9048</td>\n",
       "      <td>2985</td>\n",
       "      <td>33.0</td>\n",
       "    </tr>\n",
       "    <tr>\n",
       "      <th>Santa Fe</th>\n",
       "      <td>9034</td>\n",
       "      <td>4472</td>\n",
       "      <td>50.0</td>\n",
       "    </tr>\n",
       "    <tr>\n",
       "      <th>Buenos Aires Interior</th>\n",
       "      <td>2251</td>\n",
       "      <td>837</td>\n",
       "      <td>37.0</td>\n",
       "    </tr>\n",
       "    <tr>\n",
       "      <th>Río Negro</th>\n",
       "      <td>792</td>\n",
       "      <td>584</td>\n",
       "      <td>74.0</td>\n",
       "    </tr>\n",
       "    <tr>\n",
       "      <th>Mendoza</th>\n",
       "      <td>656</td>\n",
       "      <td>250</td>\n",
       "      <td>38.0</td>\n",
       "    </tr>\n",
       "    <tr>\n",
       "      <th>Tucumán</th>\n",
       "      <td>635</td>\n",
       "      <td>546</td>\n",
       "      <td>86.0</td>\n",
       "    </tr>\n",
       "    <tr>\n",
       "      <th>Neuquén</th>\n",
       "      <td>587</td>\n",
       "      <td>350</td>\n",
       "      <td>60.0</td>\n",
       "    </tr>\n",
       "    <tr>\n",
       "      <th>Corrientes</th>\n",
       "      <td>575</td>\n",
       "      <td>159</td>\n",
       "      <td>28.0</td>\n",
       "    </tr>\n",
       "    <tr>\n",
       "      <th>Misiones</th>\n",
       "      <td>454</td>\n",
       "      <td>246</td>\n",
       "      <td>54.0</td>\n",
       "    </tr>\n",
       "    <tr>\n",
       "      <th>Entre Ríos</th>\n",
       "      <td>365</td>\n",
       "      <td>270</td>\n",
       "      <td>74.0</td>\n",
       "    </tr>\n",
       "    <tr>\n",
       "      <th>Salta</th>\n",
       "      <td>276</td>\n",
       "      <td>200</td>\n",
       "      <td>72.0</td>\n",
       "    </tr>\n",
       "    <tr>\n",
       "      <th>Chubut</th>\n",
       "      <td>259</td>\n",
       "      <td>209</td>\n",
       "      <td>81.0</td>\n",
       "    </tr>\n",
       "    <tr>\n",
       "      <th>San Luis</th>\n",
       "      <td>245</td>\n",
       "      <td>92</td>\n",
       "      <td>38.0</td>\n",
       "    </tr>\n",
       "    <tr>\n",
       "      <th>La Pampa</th>\n",
       "      <td>153</td>\n",
       "      <td>134</td>\n",
       "      <td>88.0</td>\n",
       "    </tr>\n",
       "    <tr>\n",
       "      <th>Chaco</th>\n",
       "      <td>57</td>\n",
       "      <td>29</td>\n",
       "      <td>51.0</td>\n",
       "    </tr>\n",
       "    <tr>\n",
       "      <th>San Juan</th>\n",
       "      <td>40</td>\n",
       "      <td>36</td>\n",
       "      <td>90.0</td>\n",
       "    </tr>\n",
       "    <tr>\n",
       "      <th>Formosa</th>\n",
       "      <td>32</td>\n",
       "      <td>32</td>\n",
       "      <td>100.0</td>\n",
       "    </tr>\n",
       "    <tr>\n",
       "      <th>Tierra Del Fuego</th>\n",
       "      <td>31</td>\n",
       "      <td>5</td>\n",
       "      <td>16.0</td>\n",
       "    </tr>\n",
       "    <tr>\n",
       "      <th>Catamarca</th>\n",
       "      <td>27</td>\n",
       "      <td>6</td>\n",
       "      <td>22.0</td>\n",
       "    </tr>\n",
       "    <tr>\n",
       "      <th>Jujuy</th>\n",
       "      <td>26</td>\n",
       "      <td>16</td>\n",
       "      <td>62.0</td>\n",
       "    </tr>\n",
       "    <tr>\n",
       "      <th>Santa Cruz</th>\n",
       "      <td>20</td>\n",
       "      <td>11</td>\n",
       "      <td>55.0</td>\n",
       "    </tr>\n",
       "    <tr>\n",
       "      <th>La Rioja</th>\n",
       "      <td>4</td>\n",
       "      <td>2</td>\n",
       "      <td>50.0</td>\n",
       "    </tr>\n",
       "    <tr>\n",
       "      <th>Santiago Del Estero</th>\n",
       "      <td>4</td>\n",
       "      <td>1</td>\n",
       "      <td>25.0</td>\n",
       "    </tr>\n",
       "  </tbody>\n",
       "</table>\n",
       "</div>"
      ],
      "text/plain": [
       "                              propiedades  registros_nulos_price_per_m2  \\\n",
       "state_name                                                                \n",
       "Capital Federal                     30745                          4062   \n",
       "Bs.As. G.B.A. Zona Norte            24768                          2651   \n",
       "Bs.As. G.B.A. Zona Sur              13556                          3964   \n",
       "Córdoba                             11580                          5228   \n",
       "Buenos Aires Costa Atlántica         9914                          3065   \n",
       "Bs.As. G.B.A. Zona Oeste             9048                          2985   \n",
       "Santa Fe                             9034                          4472   \n",
       "Buenos Aires Interior                2251                           837   \n",
       "Río Negro                             792                           584   \n",
       "Mendoza                               656                           250   \n",
       "Tucumán                               635                           546   \n",
       "Neuquén                               587                           350   \n",
       "Corrientes                            575                           159   \n",
       "Misiones                              454                           246   \n",
       "Entre Ríos                            365                           270   \n",
       "Salta                                 276                           200   \n",
       "Chubut                                259                           209   \n",
       "San Luis                              245                            92   \n",
       "La Pampa                              153                           134   \n",
       "Chaco                                  57                            29   \n",
       "San Juan                               40                            36   \n",
       "Formosa                                32                            32   \n",
       "Tierra Del Fuego                       31                             5   \n",
       "Catamarca                              27                             6   \n",
       "Jujuy                                  26                            16   \n",
       "Santa Cruz                             20                            11   \n",
       "La Rioja                                4                             2   \n",
       "Santiago Del Estero                     4                             1   \n",
       "\n",
       "                              porcentaje_de_registros_nulos_price_per_m2  \n",
       "state_name                                                                \n",
       "Capital Federal                                                     13.0  \n",
       "Bs.As. G.B.A. Zona Norte                                            11.0  \n",
       "Bs.As. G.B.A. Zona Sur                                              29.0  \n",
       "Córdoba                                                             45.0  \n",
       "Buenos Aires Costa Atlántica                                        31.0  \n",
       "Bs.As. G.B.A. Zona Oeste                                            33.0  \n",
       "Santa Fe                                                            50.0  \n",
       "Buenos Aires Interior                                               37.0  \n",
       "Río Negro                                                           74.0  \n",
       "Mendoza                                                             38.0  \n",
       "Tucumán                                                             86.0  \n",
       "Neuquén                                                             60.0  \n",
       "Corrientes                                                          28.0  \n",
       "Misiones                                                            54.0  \n",
       "Entre Ríos                                                          74.0  \n",
       "Salta                                                               72.0  \n",
       "Chubut                                                              81.0  \n",
       "San Luis                                                            38.0  \n",
       "La Pampa                                                            88.0  \n",
       "Chaco                                                               51.0  \n",
       "San Juan                                                            90.0  \n",
       "Formosa                                                            100.0  \n",
       "Tierra Del Fuego                                                    16.0  \n",
       "Catamarca                                                           22.0  \n",
       "Jujuy                                                               62.0  \n",
       "Santa Cruz                                                          55.0  \n",
       "La Rioja                                                            50.0  \n",
       "Santiago Del Estero                                                 25.0  "
      ]
     },
     "execution_count": 29,
     "metadata": {},
     "output_type": "execute_result"
    }
   ],
   "source": [
    "# Junto ambos dataframes anteriores\n",
    "\n",
    "tabla_de_propiedades = pd.merge(provincias, nulos_por_provincia, on = \"state_name\", how = \"inner\")\n",
    "\n",
    "# Calculo el porcentaje de registros nulos en price per m2 de cada provincia\n",
    "\n",
    "tabla_de_propiedades[\"porcentaje_de_registros_nulos_price_per_m2\"] = round((tabla_de_propiedades.registros_nulos_price_per_m2 * 100) / tabla_de_propiedades.propiedades)\n",
    "\n",
    "tabla_de_propiedades"
   ]
  },
  {
   "cell_type": "markdown",
   "id": "7cd8da0b",
   "metadata": {},
   "source": [
    "\n"
   ]
  },
  {
   "cell_type": "markdown",
   "id": "64082fd6",
   "metadata": {},
   "source": [
    "Teniendo en cuenta la tabla, tomaré del dataset las propiedades pertenecientes a \"Capital Federal\" ya que, esta zona es la que más cantidad de propiedades tiene y a su vez, un bajo porcentaje de nulos."
   ]
  },
  {
   "cell_type": "markdown",
   "id": "3e29fe23",
   "metadata": {},
   "source": [
    "# Análisis y limpieza CABA"
   ]
  },
  {
   "cell_type": "code",
   "execution_count": 30,
   "id": "21682013",
   "metadata": {},
   "outputs": [],
   "source": [
    "# Creo un nuevo dataset que contenga solo las propiedades localizadas en Capital Federal\n",
    "\n",
    "dataset_caba = dataset.loc[dataset.state_name == \"Capital Federal\"]\n",
    "\n",
    "# Reinicio el índice para evitar confusiones.\n",
    "\n",
    "dataset_caba.reset_index(inplace = True, drop = True)"
   ]
  },
  {
   "cell_type": "code",
   "execution_count": 31,
   "id": "40cd928c",
   "metadata": {},
   "outputs": [
    {
     "name": "stdout",
     "output_type": "stream",
     "text": [
      "Tamaño del dataset: (30745, 15)\n"
     ]
    }
   ],
   "source": [
    "# Creo una variable que almacene el tamaño original del dataframe para usarla a futuro\n",
    "\n",
    "tamaño = (dataset_caba.shape)[0]\n",
    "print(\"Tamaño del dataset:\", dataset_caba.shape)"
   ]
  },
  {
   "cell_type": "code",
   "execution_count": 32,
   "id": "a2b496ac",
   "metadata": {
    "scrolled": false
   },
   "outputs": [
    {
     "data": {
      "text/plain": [
       "property_type                0\n",
       "place_name                   0\n",
       "state_name                   0\n",
       "lat                       7742\n",
       "lon                       7742\n",
       "price_aprox_usd           2412\n",
       "surface_total_in_m2       5814\n",
       "surface_covered_in_m2     2054\n",
       "price_usd_per_m2          7947\n",
       "price_per_m2              4062\n",
       "floor                    27756\n",
       "rooms                    15755\n",
       "expenses                 24263\n",
       "description                  0\n",
       "title                        0\n",
       "dtype: int64"
      ]
     },
     "execution_count": 32,
     "metadata": {},
     "output_type": "execute_result"
    }
   ],
   "source": [
    "# Muestro la cantidad de nulos en cada columna\n",
    "\n",
    "nulos = dataset_caba.apply(lambda x: x.isnull().sum())\n",
    "nulos"
   ]
  },
  {
   "cell_type": "code",
   "execution_count": 33,
   "id": "007ced0a",
   "metadata": {
    "scrolled": false
   },
   "outputs": [
    {
     "data": {
      "text/plain": [
       "property_type             0.00\n",
       "place_name                0.00\n",
       "state_name                0.00\n",
       "lat                      25.18\n",
       "lon                      25.18\n",
       "price_aprox_usd           7.85\n",
       "surface_total_in_m2      18.91\n",
       "surface_covered_in_m2     6.68\n",
       "price_usd_per_m2         25.85\n",
       "price_per_m2             13.21\n",
       "floor                    90.28\n",
       "rooms                    51.24\n",
       "expenses                 78.92\n",
       "description               0.00\n",
       "title                     0.00\n",
       "dtype: float64"
      ]
     },
     "execution_count": 33,
     "metadata": {},
     "output_type": "execute_result"
    }
   ],
   "source": [
    "# Muestro la cantidad de nulos en cada columna a modo de porcentajes\n",
    "\n",
    "nulos.apply(lambda x: round((x * 100) / len(dataset_caba), 2))"
   ]
  },
  {
   "cell_type": "markdown",
   "id": "6462ce92",
   "metadata": {},
   "source": [
    "### Price usd per m2"
   ]
  },
  {
   "cell_type": "markdown",
   "id": "4a88cd17",
   "metadata": {},
   "source": [
    "Tengo propiedades que contienen su price per m2 pero, price usd per m2 esta vacío. Por lo que, mediante el valor del dólar obtenido, puedo realizar la conversión."
   ]
  },
  {
   "cell_type": "code",
   "execution_count": 34,
   "id": "b6660f4f",
   "metadata": {},
   "outputs": [
    {
     "name": "stdout",
     "output_type": "stream",
     "text": [
      "Cantidad de filas a convertir: 4972\n"
     ]
    }
   ],
   "source": [
    "# Creo un dataset donde price usd per m2 sea nulo pero, price per m2 no lo sea.\n",
    "\n",
    "usd_vacios = dataset_caba.loc[(dataset_caba.price_usd_per_m2.isnull()) & (dataset_caba.price_per_m2.notnull()),[\"price_usd_per_m2\", \"price_per_m2\"]]\n",
    "\n",
    "print(\"Cantidad de filas a convertir:\", len(usd_vacios))"
   ]
  },
  {
   "cell_type": "code",
   "execution_count": 35,
   "id": "32be88b9",
   "metadata": {
    "scrolled": false
   },
   "outputs": [],
   "source": [
    "# Realizo la conversión\n",
    "\n",
    "usd_llenar = usd_vacios.price_per_m2.apply(lambda x: x / valor_dolar)"
   ]
  },
  {
   "cell_type": "code",
   "execution_count": 36,
   "id": "fcaf6f11",
   "metadata": {},
   "outputs": [
    {
     "data": {
      "text/plain": [
       "30       183.420535\n",
       "32       112.000367\n",
       "34        91.388251\n",
       "35       142.242848\n",
       "36        94.192062\n",
       "            ...    \n",
       "30733     70.154317\n",
       "30734    140.960610\n",
       "30735    103.540654\n",
       "30736     94.458141\n",
       "30737    127.947845\n",
       "Name: price_per_m2, Length: 4972, dtype: float64"
      ]
     },
     "execution_count": 36,
     "metadata": {},
     "output_type": "execute_result"
    }
   ],
   "source": [
    "usd_llenar"
   ]
  },
  {
   "cell_type": "code",
   "execution_count": 37,
   "id": "ae235827",
   "metadata": {
    "scrolled": false
   },
   "outputs": [
    {
     "name": "stderr",
     "output_type": "stream",
     "text": [
      "E:\\Programas\\anaconda3\\envs\\dhdsblend2021\\lib\\site-packages\\pandas\\core\\indexing.py:1743: SettingWithCopyWarning: \n",
      "A value is trying to be set on a copy of a slice from a DataFrame.\n",
      "Try using .loc[row_indexer,col_indexer] = value instead\n",
      "\n",
      "See the caveats in the documentation: https://pandas.pydata.org/pandas-docs/stable/user_guide/indexing.html#returning-a-view-versus-a-copy\n",
      "  isetter(ilocs[0], value)\n"
     ]
    }
   ],
   "source": [
    "# Aplico la serie con los valores de la conversión sobre los nans alojados en la columna price usd per m2 del dataset.\n",
    "\n",
    "dataset_caba.loc[(dataset_caba[\"price_usd_per_m2\"].isnull()) & (dataset_caba[\"price_per_m2\"].notnull()), \"price_usd_per_m2\"] = usd_llenar"
   ]
  },
  {
   "cell_type": "code",
   "execution_count": 38,
   "id": "fccc7d41",
   "metadata": {
    "scrolled": false
   },
   "outputs": [
    {
     "name": "stdout",
     "output_type": "stream",
     "text": [
      "Cantidad de filas a convertir: 0\n"
     ]
    }
   ],
   "source": [
    "# Verifico que se haya realizado correctamente la imputación\n",
    "\n",
    "print(\"Cantidad de filas a convertir:\", (dataset_caba.loc[(dataset_caba.price_usd_per_m2.isnull()) & (dataset_caba.price_per_m2.notnull())].shape)[0])"
   ]
  },
  {
   "cell_type": "code",
   "execution_count": 39,
   "id": "d4aeac69",
   "metadata": {},
   "outputs": [
    {
     "name": "stderr",
     "output_type": "stream",
     "text": [
      "E:\\Programas\\anaconda3\\envs\\dhdsblend2021\\lib\\site-packages\\pandas\\core\\frame.py:4167: SettingWithCopyWarning: \n",
      "A value is trying to be set on a copy of a slice from a DataFrame\n",
      "\n",
      "See the caveats in the documentation: https://pandas.pydata.org/pandas-docs/stable/user_guide/indexing.html#returning-a-view-versus-a-copy\n",
      "  return super().drop(\n"
     ]
    }
   ],
   "source": [
    "# Elimino price_per_m2 ya que no será util a futuro\n",
    "\n",
    "dataset_caba.drop(\"price_per_m2\", axis = 1, inplace = True)"
   ]
  },
  {
   "cell_type": "code",
   "execution_count": 40,
   "id": "985a511f",
   "metadata": {
    "scrolled": true
   },
   "outputs": [
    {
     "data": {
      "text/plain": [
       "property_type             0.00\n",
       "place_name                0.00\n",
       "state_name                0.00\n",
       "lat                      25.18\n",
       "lon                      25.18\n",
       "price_aprox_usd           7.85\n",
       "surface_total_in_m2      18.91\n",
       "surface_covered_in_m2     6.68\n",
       "price_usd_per_m2          9.68\n",
       "floor                    90.28\n",
       "rooms                    51.24\n",
       "expenses                 78.92\n",
       "description               0.00\n",
       "title                     0.00\n",
       "dtype: float64"
      ]
     },
     "execution_count": 40,
     "metadata": {},
     "output_type": "execute_result"
    }
   ],
   "source": [
    "# Analizo nuevamente los nulos para ver como proseguir\n",
    "\n",
    "nulos = dataset_caba.apply(lambda x: x.isnull().sum())\n",
    "\n",
    "nulos.apply(lambda x: round((x * 100) / len(dataset_caba), 2))"
   ]
  },
  {
   "cell_type": "markdown",
   "id": "2b8b8520",
   "metadata": {},
   "source": [
    "**Objetivo: Llenar price usd per m2**\n",
    "\n",
    "Opciones:\n",
    "* Llenar price aprox usd y surface total in m2. Luego, dividir ambas columnas para obtener price usd per m2\n",
    "* Llenar directamente price usd per m2\n",
    "\n",
    "Teniendo en cuenta el porcentaje de nulos de cada variable, decidí llenar directamente price usd per m2 ya que, si desease hacer la división de las otras variables, antes tendría que imputar los valores faltantes de price usd per m2 y surface total in m2, obteniendo valores que podrían no reflejar la realidad."
   ]
  },
  {
   "cell_type": "markdown",
   "id": "9d9418ea",
   "metadata": {},
   "source": [
    "### Price usd per m2"
   ]
  },
  {
   "cell_type": "code",
   "execution_count": 41,
   "id": "affbe882",
   "metadata": {},
   "outputs": [
    {
     "data": {
      "text/html": [
       "<div>\n",
       "<style scoped>\n",
       "    .dataframe tbody tr th:only-of-type {\n",
       "        vertical-align: middle;\n",
       "    }\n",
       "\n",
       "    .dataframe tbody tr th {\n",
       "        vertical-align: top;\n",
       "    }\n",
       "\n",
       "    .dataframe thead tr th {\n",
       "        text-align: left;\n",
       "    }\n",
       "\n",
       "    .dataframe thead tr:last-of-type th {\n",
       "        text-align: right;\n",
       "    }\n",
       "</style>\n",
       "<table border=\"1\" class=\"dataframe\">\n",
       "  <thead>\n",
       "    <tr>\n",
       "      <th></th>\n",
       "      <th></th>\n",
       "      <th colspan=\"8\" halign=\"left\">price_usd_per_m2</th>\n",
       "    </tr>\n",
       "    <tr>\n",
       "      <th></th>\n",
       "      <th></th>\n",
       "      <th>count</th>\n",
       "      <th>mean</th>\n",
       "      <th>std</th>\n",
       "      <th>min</th>\n",
       "      <th>25%</th>\n",
       "      <th>50%</th>\n",
       "      <th>75%</th>\n",
       "      <th>max</th>\n",
       "    </tr>\n",
       "    <tr>\n",
       "      <th>place_name</th>\n",
       "      <th>property_type</th>\n",
       "      <th></th>\n",
       "      <th></th>\n",
       "      <th></th>\n",
       "      <th></th>\n",
       "      <th></th>\n",
       "      <th></th>\n",
       "      <th></th>\n",
       "      <th></th>\n",
       "    </tr>\n",
       "  </thead>\n",
       "  <tbody>\n",
       "    <tr>\n",
       "      <th rowspan=\"4\" valign=\"top\">Abasto</th>\n",
       "      <th>PH</th>\n",
       "      <td>13.0</td>\n",
       "      <td>1570.485350</td>\n",
       "      <td>587.602861</td>\n",
       "      <td>864.406780</td>\n",
       "      <td>1000.000000</td>\n",
       "      <td>1500.000000</td>\n",
       "      <td>2000.000000</td>\n",
       "      <td>2500.000000</td>\n",
       "    </tr>\n",
       "    <tr>\n",
       "      <th>apartment</th>\n",
       "      <td>73.0</td>\n",
       "      <td>1823.241579</td>\n",
       "      <td>912.143314</td>\n",
       "      <td>88.984865</td>\n",
       "      <td>1366.666667</td>\n",
       "      <td>2133.333333</td>\n",
       "      <td>2511.259259</td>\n",
       "      <td>2939.393939</td>\n",
       "    </tr>\n",
       "    <tr>\n",
       "      <th>house</th>\n",
       "      <td>3.0</td>\n",
       "      <td>1432.703521</td>\n",
       "      <td>196.391518</td>\n",
       "      <td>1225.000000</td>\n",
       "      <td>1341.362974</td>\n",
       "      <td>1457.725948</td>\n",
       "      <td>1536.555281</td>\n",
       "      <td>1615.384615</td>\n",
       "    </tr>\n",
       "    <tr>\n",
       "      <th>store</th>\n",
       "      <td>7.0</td>\n",
       "      <td>2080.293122</td>\n",
       "      <td>506.695161</td>\n",
       "      <td>1428.571429</td>\n",
       "      <td>1880.757503</td>\n",
       "      <td>1900.000000</td>\n",
       "      <td>2315.528163</td>\n",
       "      <td>2840.909091</td>\n",
       "    </tr>\n",
       "    <tr>\n",
       "      <th>Agronomía</th>\n",
       "      <th>PH</th>\n",
       "      <td>7.0</td>\n",
       "      <td>847.681223</td>\n",
       "      <td>756.022818</td>\n",
       "      <td>101.048244</td>\n",
       "      <td>127.467641</td>\n",
       "      <td>878.460711</td>\n",
       "      <td>1349.662162</td>\n",
       "      <td>2000.000000</td>\n",
       "    </tr>\n",
       "    <tr>\n",
       "      <th>...</th>\n",
       "      <th>...</th>\n",
       "      <td>...</td>\n",
       "      <td>...</td>\n",
       "      <td>...</td>\n",
       "      <td>...</td>\n",
       "      <td>...</td>\n",
       "      <td>...</td>\n",
       "      <td>...</td>\n",
       "      <td>...</td>\n",
       "    </tr>\n",
       "    <tr>\n",
       "      <th>Villa Urquiza</th>\n",
       "      <th>store</th>\n",
       "      <td>19.0</td>\n",
       "      <td>1864.938986</td>\n",
       "      <td>1769.069086</td>\n",
       "      <td>141.687211</td>\n",
       "      <td>427.895378</td>\n",
       "      <td>1461.538462</td>\n",
       "      <td>2658.208644</td>\n",
       "      <td>7269.778123</td>\n",
       "    </tr>\n",
       "    <tr>\n",
       "      <th rowspan=\"4\" valign=\"top\">Villa del Parque</th>\n",
       "      <th>PH</th>\n",
       "      <td>46.0</td>\n",
       "      <td>1558.496136</td>\n",
       "      <td>1956.686036</td>\n",
       "      <td>96.967185</td>\n",
       "      <td>425.061634</td>\n",
       "      <td>1383.389075</td>\n",
       "      <td>1790.710888</td>\n",
       "      <td>12185.100181</td>\n",
       "    </tr>\n",
       "    <tr>\n",
       "      <th>apartment</th>\n",
       "      <td>318.0</td>\n",
       "      <td>1902.892248</td>\n",
       "      <td>989.122756</td>\n",
       "      <td>63.291749</td>\n",
       "      <td>1738.461538</td>\n",
       "      <td>2170.507042</td>\n",
       "      <td>2585.937500</td>\n",
       "      <td>5610.813572</td>\n",
       "    </tr>\n",
       "    <tr>\n",
       "      <th>house</th>\n",
       "      <td>46.0</td>\n",
       "      <td>1026.536106</td>\n",
       "      <td>697.444457</td>\n",
       "      <td>51.746634</td>\n",
       "      <td>143.492119</td>\n",
       "      <td>1105.125035</td>\n",
       "      <td>1517.994679</td>\n",
       "      <td>2543.103448</td>\n",
       "    </tr>\n",
       "    <tr>\n",
       "      <th>store</th>\n",
       "      <td>13.0</td>\n",
       "      <td>1877.990794</td>\n",
       "      <td>2135.548694</td>\n",
       "      <td>90.964959</td>\n",
       "      <td>935.135595</td>\n",
       "      <td>1400.000000</td>\n",
       "      <td>1894.736842</td>\n",
       "      <td>8300.000000</td>\n",
       "    </tr>\n",
       "  </tbody>\n",
       "</table>\n",
       "<p>235 rows × 8 columns</p>\n",
       "</div>"
      ],
      "text/plain": [
       "                               price_usd_per_m2                            \\\n",
       "                                          count         mean          std   \n",
       "place_name       property_type                                              \n",
       "Abasto           PH                        13.0  1570.485350   587.602861   \n",
       "                 apartment                 73.0  1823.241579   912.143314   \n",
       "                 house                      3.0  1432.703521   196.391518   \n",
       "                 store                      7.0  2080.293122   506.695161   \n",
       "Agronomía        PH                         7.0   847.681223   756.022818   \n",
       "...                                         ...          ...          ...   \n",
       "Villa Urquiza    store                     19.0  1864.938986  1769.069086   \n",
       "Villa del Parque PH                        46.0  1558.496136  1956.686036   \n",
       "                 apartment                318.0  1902.892248   989.122756   \n",
       "                 house                     46.0  1026.536106   697.444457   \n",
       "                 store                     13.0  1877.990794  2135.548694   \n",
       "\n",
       "                                                                       \\\n",
       "                                        min          25%          50%   \n",
       "place_name       property_type                                          \n",
       "Abasto           PH              864.406780  1000.000000  1500.000000   \n",
       "                 apartment        88.984865  1366.666667  2133.333333   \n",
       "                 house          1225.000000  1341.362974  1457.725948   \n",
       "                 store          1428.571429  1880.757503  1900.000000   \n",
       "Agronomía        PH              101.048244   127.467641   878.460711   \n",
       "...                                     ...          ...          ...   \n",
       "Villa Urquiza    store           141.687211   427.895378  1461.538462   \n",
       "Villa del Parque PH               96.967185   425.061634  1383.389075   \n",
       "                 apartment        63.291749  1738.461538  2170.507042   \n",
       "                 house            51.746634   143.492119  1105.125035   \n",
       "                 store            90.964959   935.135595  1400.000000   \n",
       "\n",
       "                                                           \n",
       "                                        75%           max  \n",
       "place_name       property_type                             \n",
       "Abasto           PH             2000.000000   2500.000000  \n",
       "                 apartment      2511.259259   2939.393939  \n",
       "                 house          1536.555281   1615.384615  \n",
       "                 store          2315.528163   2840.909091  \n",
       "Agronomía        PH             1349.662162   2000.000000  \n",
       "...                                     ...           ...  \n",
       "Villa Urquiza    store          2658.208644   7269.778123  \n",
       "Villa del Parque PH             1790.710888  12185.100181  \n",
       "                 apartment      2585.937500   5610.813572  \n",
       "                 house          1517.994679   2543.103448  \n",
       "                 store          1894.736842   8300.000000  \n",
       "\n",
       "[235 rows x 8 columns]"
      ]
     },
     "execution_count": 41,
     "metadata": {},
     "output_type": "execute_result"
    }
   ],
   "source": [
    "# Agrupo por place name y property type, las cuales son las variables que más afectan al precio, para analizar la media del precio per m2 en USD\n",
    "\n",
    "analisis_price_usd_m2 = dataset_caba.groupby([\"place_name\", \"property_type\"])[[\"price_usd_per_m2\"]]\n",
    "\n",
    "# Genero estadísticas descriptivas\n",
    "analisis_price_usd_m2.describe()"
   ]
  },
  {
   "cell_type": "markdown",
   "id": "cbfc028f",
   "metadata": {},
   "source": [
    "Teniendo en cuenta que, para algunos casos, el desvío estándar es elevado y que, la media difiere mucho del percentil 75 y del máximo. Para imputar valores, utilizare la media recortada excluyendo el 25% de cada extremo, es decir, la media del rango intercuartil."
   ]
  },
  {
   "cell_type": "code",
   "execution_count": 42,
   "id": "bce9f109",
   "metadata": {
    "scrolled": false
   },
   "outputs": [
    {
     "name": "stdout",
     "output_type": "stream",
     "text": [
      "Cantidad de filas a imputar: 2975\n"
     ]
    }
   ],
   "source": [
    "print(\"Cantidad de filas a imputar:\", (dataset_caba[dataset_caba.price_usd_per_m2.isnull()].shape)[0])"
   ]
  },
  {
   "cell_type": "markdown",
   "id": "06e234ef",
   "metadata": {},
   "source": [
    "**stats.trim_mean** es una función que me permite calcular la media recortada, enviadole como parámetro sobre que quiero calcular la media (x) y que porcentaje de los extremos deseo excluir (0.25 = 25%)."
   ]
  },
  {
   "cell_type": "code",
   "execution_count": 43,
   "id": "2bb41f51",
   "metadata": {
    "scrolled": true
   },
   "outputs": [],
   "source": [
    "# Mediante un transform sobre los grupos, calculo la media recortada del precio per m2 en USD\n",
    "\n",
    "media_price_usd_m2 = analisis_price_usd_m2.transform(lambda x: stats.trim_mean(x,0.25))"
   ]
  },
  {
   "cell_type": "code",
   "execution_count": 44,
   "id": "4c172ee8",
   "metadata": {
    "scrolled": true
   },
   "outputs": [
    {
     "name": "stderr",
     "output_type": "stream",
     "text": [
      "E:\\Programas\\anaconda3\\envs\\dhdsblend2021\\lib\\site-packages\\pandas\\core\\indexing.py:1715: SettingWithCopyWarning: \n",
      "A value is trying to be set on a copy of a slice from a DataFrame.\n",
      "Try using .loc[row_indexer,col_indexer] = value instead\n",
      "\n",
      "See the caveats in the documentation: https://pandas.pydata.org/pandas-docs/stable/user_guide/indexing.html#returning-a-view-versus-a-copy\n",
      "  isetter(loc, v)\n"
     ]
    }
   ],
   "source": [
    "# Relleno cada valor nan de price usd per m2 con su valor correspondiente de media price usd m2\n",
    "\n",
    "dataset_caba.loc[dataset_caba.price_usd_per_m2.isnull(), \"price_usd_per_m2\"] = media_price_usd_m2[dataset_caba.price_usd_per_m2.isnull()]"
   ]
  },
  {
   "cell_type": "code",
   "execution_count": 45,
   "id": "dae2d076",
   "metadata": {
    "scrolled": true
   },
   "outputs": [
    {
     "name": "stdout",
     "output_type": "stream",
     "text": [
      "Cantidad de filas a imputar: 177\n"
     ]
    }
   ],
   "source": [
    "print(\"Cantidad de filas a imputar:\", (dataset_caba[dataset_caba.price_usd_per_m2.isnull()].shape)[0])"
   ]
  },
  {
   "cell_type": "markdown",
   "id": "61d92107",
   "metadata": {},
   "source": [
    "Para imputar los registros faltantes, utilizare la división entre price aprox usd y surface total in m2"
   ]
  },
  {
   "cell_type": "markdown",
   "id": "cabba8c5",
   "metadata": {},
   "source": [
    "### Price aprox usd"
   ]
  },
  {
   "cell_type": "markdown",
   "id": "dcf10466",
   "metadata": {},
   "source": [
    "Primero, rellenaré valores nulos mediante la multiplicación entre la variable price usd per m2 y la variable surface total in m2. Luego, en caso de seguir teniendo valores nulos, los rellenare mediante cálculos estadísticos.\n",
    "\n",
    "Los primeros valores imputados no me servirán para llenar price usd per m2 ya que, en estos casos el valor de price usd per m2 no es nulo (lo utilizo para hacer la multiplicación). Esto lo realizo para que, los valores de price aprox usd sean lo más reales posibles"
   ]
  },
  {
   "cell_type": "code",
   "execution_count": 46,
   "id": "e3749f2d",
   "metadata": {
    "scrolled": true
   },
   "outputs": [
    {
     "name": "stdout",
     "output_type": "stream",
     "text": [
      "Cantidad de filas a imputar: 2412\n"
     ]
    }
   ],
   "source": [
    "print(\"Cantidad de filas a imputar:\", (dataset_caba[dataset_caba.price_aprox_usd.isnull()].shape)[0])"
   ]
  },
  {
   "cell_type": "code",
   "execution_count": 47,
   "id": "23849aa3",
   "metadata": {},
   "outputs": [],
   "source": [
    "# Analizo que filas puedo completar mediante la multiplicación entre price usd per m2 y surface total in m2\n",
    "\n",
    "fill_producto = dataset_caba.loc[(dataset_caba.price_usd_per_m2.notnull()) & (dataset_caba.surface_total_in_m2.notnull()) & (dataset_caba.price_aprox_usd.isnull())]"
   ]
  },
  {
   "cell_type": "code",
   "execution_count": 48,
   "id": "9624bb15",
   "metadata": {
    "scrolled": true
   },
   "outputs": [
    {
     "name": "stderr",
     "output_type": "stream",
     "text": [
      "E:\\Programas\\anaconda3\\envs\\dhdsblend2021\\lib\\site-packages\\pandas\\core\\generic.py:5170: SettingWithCopyWarning: \n",
      "A value is trying to be set on a copy of a slice from a DataFrame.\n",
      "Try using .loc[row_indexer,col_indexer] = value instead\n",
      "\n",
      "See the caveats in the documentation: https://pandas.pydata.org/pandas-docs/stable/user_guide/indexing.html#returning-a-view-versus-a-copy\n",
      "  self[name] = value\n"
     ]
    }
   ],
   "source": [
    "# Lleno los nulos de price aprox usd con el resultado del producto entre price usd per m2 y surface total in m2\n",
    "\n",
    "fill_producto.price_aprox_usd = fill_producto.price_usd_per_m2 * fill_producto.surface_total_in_m2"
   ]
  },
  {
   "cell_type": "code",
   "execution_count": 49,
   "id": "b0fa8087",
   "metadata": {
    "scrolled": true
   },
   "outputs": [],
   "source": [
    "# Imputo los valores obtenidos al dataset\n",
    "\n",
    "dataset_caba.iloc[fill_producto.index] = fill_producto"
   ]
  },
  {
   "cell_type": "code",
   "execution_count": 50,
   "id": "ad2cdc98",
   "metadata": {
    "scrolled": false
   },
   "outputs": [
    {
     "name": "stdout",
     "output_type": "stream",
     "text": [
      "Cantidad de filas a imputar: 368\n"
     ]
    }
   ],
   "source": [
    "print(\"Cantidad de filas a imputar:\", (dataset_caba[dataset_caba.price_aprox_usd.isnull()].shape)[0])"
   ]
  },
  {
   "cell_type": "markdown",
   "id": "8b05b51f",
   "metadata": {},
   "source": [
    "Estos registros faltantes, los rellenaré mediante cálculos estadísticos"
   ]
  },
  {
   "cell_type": "code",
   "execution_count": 51,
   "id": "13b269ff",
   "metadata": {
    "scrolled": true
   },
   "outputs": [
    {
     "data": {
      "text/html": [
       "<div>\n",
       "<style scoped>\n",
       "    .dataframe tbody tr th:only-of-type {\n",
       "        vertical-align: middle;\n",
       "    }\n",
       "\n",
       "    .dataframe tbody tr th {\n",
       "        vertical-align: top;\n",
       "    }\n",
       "\n",
       "    .dataframe thead tr th {\n",
       "        text-align: left;\n",
       "    }\n",
       "\n",
       "    .dataframe thead tr:last-of-type th {\n",
       "        text-align: right;\n",
       "    }\n",
       "</style>\n",
       "<table border=\"1\" class=\"dataframe\">\n",
       "  <thead>\n",
       "    <tr>\n",
       "      <th></th>\n",
       "      <th></th>\n",
       "      <th colspan=\"8\" halign=\"left\">price_aprox_usd</th>\n",
       "    </tr>\n",
       "    <tr>\n",
       "      <th></th>\n",
       "      <th></th>\n",
       "      <th>count</th>\n",
       "      <th>mean</th>\n",
       "      <th>std</th>\n",
       "      <th>min</th>\n",
       "      <th>25%</th>\n",
       "      <th>50%</th>\n",
       "      <th>75%</th>\n",
       "      <th>max</th>\n",
       "    </tr>\n",
       "    <tr>\n",
       "      <th>place_name</th>\n",
       "      <th>property_type</th>\n",
       "      <th></th>\n",
       "      <th></th>\n",
       "      <th></th>\n",
       "      <th></th>\n",
       "      <th></th>\n",
       "      <th></th>\n",
       "      <th></th>\n",
       "      <th></th>\n",
       "    </tr>\n",
       "  </thead>\n",
       "  <tbody>\n",
       "    <tr>\n",
       "      <th rowspan=\"4\" valign=\"top\">Abasto</th>\n",
       "      <th>PH</th>\n",
       "      <td>14.0</td>\n",
       "      <td>173537.346317</td>\n",
       "      <td>115214.555200</td>\n",
       "      <td>55000.000000</td>\n",
       "      <td>106275.000</td>\n",
       "      <td>160000.000000</td>\n",
       "      <td>195750.000000</td>\n",
       "      <td>5.100000e+05</td>\n",
       "    </tr>\n",
       "    <tr>\n",
       "      <th>apartment</th>\n",
       "      <td>75.0</td>\n",
       "      <td>127697.298094</td>\n",
       "      <td>60572.734314</td>\n",
       "      <td>38000.000000</td>\n",
       "      <td>86357.435</td>\n",
       "      <td>130000.000000</td>\n",
       "      <td>150116.000000</td>\n",
       "      <td>4.400000e+05</td>\n",
       "    </tr>\n",
       "    <tr>\n",
       "      <th>house</th>\n",
       "      <td>3.0</td>\n",
       "      <td>470000.000000</td>\n",
       "      <td>43588.989435</td>\n",
       "      <td>420000.000000</td>\n",
       "      <td>455000.000</td>\n",
       "      <td>490000.000000</td>\n",
       "      <td>495000.000000</td>\n",
       "      <td>5.000000e+05</td>\n",
       "    </tr>\n",
       "    <tr>\n",
       "      <th>store</th>\n",
       "      <td>9.0</td>\n",
       "      <td>371476.949235</td>\n",
       "      <td>324410.080866</td>\n",
       "      <td>38292.543114</td>\n",
       "      <td>160000.000</td>\n",
       "      <td>380000.000000</td>\n",
       "      <td>380000.000000</td>\n",
       "      <td>1.160000e+06</td>\n",
       "    </tr>\n",
       "    <tr>\n",
       "      <th>Agronomía</th>\n",
       "      <th>PH</th>\n",
       "      <td>7.0</td>\n",
       "      <td>210714.285714</td>\n",
       "      <td>58696.150600</td>\n",
       "      <td>130000.000000</td>\n",
       "      <td>175000.000</td>\n",
       "      <td>210000.000000</td>\n",
       "      <td>237500.000000</td>\n",
       "      <td>3.100000e+05</td>\n",
       "    </tr>\n",
       "    <tr>\n",
       "      <th>...</th>\n",
       "      <th>...</th>\n",
       "      <td>...</td>\n",
       "      <td>...</td>\n",
       "      <td>...</td>\n",
       "      <td>...</td>\n",
       "      <td>...</td>\n",
       "      <td>...</td>\n",
       "      <td>...</td>\n",
       "      <td>...</td>\n",
       "    </tr>\n",
       "    <tr>\n",
       "      <th>Villa Urquiza</th>\n",
       "      <th>store</th>\n",
       "      <td>24.0</td>\n",
       "      <td>387462.101526</td>\n",
       "      <td>830032.150168</td>\n",
       "      <td>48000.000000</td>\n",
       "      <td>89750.000</td>\n",
       "      <td>158450.000000</td>\n",
       "      <td>311569.601258</td>\n",
       "      <td>4.199901e+06</td>\n",
       "    </tr>\n",
       "    <tr>\n",
       "      <th rowspan=\"4\" valign=\"top\">Villa del Parque</th>\n",
       "      <th>PH</th>\n",
       "      <td>46.0</td>\n",
       "      <td>174156.521739</td>\n",
       "      <td>72833.992834</td>\n",
       "      <td>79900.000000</td>\n",
       "      <td>113500.000</td>\n",
       "      <td>161000.000000</td>\n",
       "      <td>225250.000000</td>\n",
       "      <td>3.300000e+05</td>\n",
       "    </tr>\n",
       "    <tr>\n",
       "      <th>apartment</th>\n",
       "      <td>345.0</td>\n",
       "      <td>149943.427576</td>\n",
       "      <td>75364.103155</td>\n",
       "      <td>59459.000000</td>\n",
       "      <td>95000.000</td>\n",
       "      <td>135267.174629</td>\n",
       "      <td>185600.000000</td>\n",
       "      <td>6.550000e+05</td>\n",
       "    </tr>\n",
       "    <tr>\n",
       "      <th>house</th>\n",
       "      <td>49.0</td>\n",
       "      <td>364891.856872</td>\n",
       "      <td>126682.587009</td>\n",
       "      <td>164000.000000</td>\n",
       "      <td>275000.000</td>\n",
       "      <td>355000.000000</td>\n",
       "      <td>450000.000000</td>\n",
       "      <td>6.500000e+05</td>\n",
       "    </tr>\n",
       "    <tr>\n",
       "      <th>store</th>\n",
       "      <td>13.0</td>\n",
       "      <td>377798.260000</td>\n",
       "      <td>237069.244239</td>\n",
       "      <td>22377.380000</td>\n",
       "      <td>184000.000</td>\n",
       "      <td>330000.000000</td>\n",
       "      <td>630000.000000</td>\n",
       "      <td>8.300000e+05</td>\n",
       "    </tr>\n",
       "  </tbody>\n",
       "</table>\n",
       "<p>235 rows × 8 columns</p>\n",
       "</div>"
      ],
      "text/plain": [
       "                               price_aprox_usd                                \\\n",
       "                                         count           mean            std   \n",
       "place_name       property_type                                                 \n",
       "Abasto           PH                       14.0  173537.346317  115214.555200   \n",
       "                 apartment                75.0  127697.298094   60572.734314   \n",
       "                 house                     3.0  470000.000000   43588.989435   \n",
       "                 store                     9.0  371476.949235  324410.080866   \n",
       "Agronomía        PH                        7.0  210714.285714   58696.150600   \n",
       "...                                        ...            ...            ...   \n",
       "Villa Urquiza    store                    24.0  387462.101526  830032.150168   \n",
       "Villa del Parque PH                       46.0  174156.521739   72833.992834   \n",
       "                 apartment               345.0  149943.427576   75364.103155   \n",
       "                 house                    49.0  364891.856872  126682.587009   \n",
       "                 store                    13.0  377798.260000  237069.244239   \n",
       "\n",
       "                                                                          \\\n",
       "                                          min         25%            50%   \n",
       "place_name       property_type                                             \n",
       "Abasto           PH              55000.000000  106275.000  160000.000000   \n",
       "                 apartment       38000.000000   86357.435  130000.000000   \n",
       "                 house          420000.000000  455000.000  490000.000000   \n",
       "                 store           38292.543114  160000.000  380000.000000   \n",
       "Agronomía        PH             130000.000000  175000.000  210000.000000   \n",
       "...                                       ...         ...            ...   \n",
       "Villa Urquiza    store           48000.000000   89750.000  158450.000000   \n",
       "Villa del Parque PH              79900.000000  113500.000  161000.000000   \n",
       "                 apartment       59459.000000   95000.000  135267.174629   \n",
       "                 house          164000.000000  275000.000  355000.000000   \n",
       "                 store           22377.380000  184000.000  330000.000000   \n",
       "\n",
       "                                                             \n",
       "                                          75%           max  \n",
       "place_name       property_type                               \n",
       "Abasto           PH             195750.000000  5.100000e+05  \n",
       "                 apartment      150116.000000  4.400000e+05  \n",
       "                 house          495000.000000  5.000000e+05  \n",
       "                 store          380000.000000  1.160000e+06  \n",
       "Agronomía        PH             237500.000000  3.100000e+05  \n",
       "...                                       ...           ...  \n",
       "Villa Urquiza    store          311569.601258  4.199901e+06  \n",
       "Villa del Parque PH             225250.000000  3.300000e+05  \n",
       "                 apartment      185600.000000  6.550000e+05  \n",
       "                 house          450000.000000  6.500000e+05  \n",
       "                 store          630000.000000  8.300000e+05  \n",
       "\n",
       "[235 rows x 8 columns]"
      ]
     },
     "execution_count": 51,
     "metadata": {},
     "output_type": "execute_result"
    }
   ],
   "source": [
    "# Agrupo por place name y property type, las cuales son las variables que más afectan al precio, para analizar la media del precio en USD\n",
    "\n",
    "analisis_price_usd = dataset_caba.groupby([\"place_name\", \"property_type\"])[[\"price_aprox_usd\"]]\n",
    "\n",
    "# Genero estadisticas descriptivas \n",
    "\n",
    "analisis_price_usd.describe()\n"
   ]
  },
  {
   "cell_type": "markdown",
   "id": "0429c1f1",
   "metadata": {},
   "source": [
    "Debido a los altos valores en el desvío estándar y a la diferencia entre la media, el percentil 25, 75 y el máximo, para mis cálculos utilizaré la media recortada"
   ]
  },
  {
   "cell_type": "code",
   "execution_count": 52,
   "id": "b8ba1d70",
   "metadata": {
    "scrolled": true
   },
   "outputs": [],
   "source": [
    "# Mediante un transform sobre los grupos, calculo la media recortada del precio en USD\n",
    "\n",
    "media_price_usd = analisis_price_usd.transform(lambda x: stats.trim_mean(x,0.25))"
   ]
  },
  {
   "cell_type": "code",
   "execution_count": 53,
   "id": "a0499106",
   "metadata": {},
   "outputs": [
    {
     "name": "stderr",
     "output_type": "stream",
     "text": [
      "E:\\Programas\\anaconda3\\envs\\dhdsblend2021\\lib\\site-packages\\pandas\\core\\indexing.py:1715: SettingWithCopyWarning: \n",
      "A value is trying to be set on a copy of a slice from a DataFrame.\n",
      "Try using .loc[row_indexer,col_indexer] = value instead\n",
      "\n",
      "See the caveats in the documentation: https://pandas.pydata.org/pandas-docs/stable/user_guide/indexing.html#returning-a-view-versus-a-copy\n",
      "  isetter(loc, v)\n"
     ]
    }
   ],
   "source": [
    "# Relleno cada valor nan de price aprox usd con su valor correspondiente de media price usd\n",
    "\n",
    "dataset_caba.loc[dataset_caba.price_aprox_usd.isnull(), \"price_aprox_usd\"] = media_price_usd[dataset_caba.price_aprox_usd.isnull()]"
   ]
  },
  {
   "cell_type": "code",
   "execution_count": 54,
   "id": "bc6aa1f3",
   "metadata": {
    "scrolled": true
   },
   "outputs": [
    {
     "name": "stdout",
     "output_type": "stream",
     "text": [
      "Cantidad de filas a imputar: 65\n"
     ]
    }
   ],
   "source": [
    "print(\"Cantidad de filas a imputar:\", (dataset_caba[dataset_caba.price_aprox_usd.isnull()].shape)[0])"
   ]
  },
  {
   "cell_type": "markdown",
   "id": "b062c6d2",
   "metadata": {},
   "source": [
    "### Surface total in m2"
   ]
  },
  {
   "cell_type": "markdown",
   "id": "fdd3bbc3",
   "metadata": {},
   "source": [
    "Primero llenaré valores nulos de surface total in m2 mediante la división entre price aprox usd y price usd per m2. Luego, en caso de tener registros nulos, los completare con cálculos estadísticos"
   ]
  },
  {
   "cell_type": "code",
   "execution_count": 55,
   "id": "29e90db0",
   "metadata": {
    "scrolled": true
   },
   "outputs": [
    {
     "name": "stdout",
     "output_type": "stream",
     "text": [
      "Cantidad de filas a imputar: 5814\n"
     ]
    }
   ],
   "source": [
    "print(\"Cantidad de filas a imputar:\", (dataset_caba.loc[dataset_caba.surface_total_in_m2.isnull()].shape)[0])"
   ]
  },
  {
   "cell_type": "code",
   "execution_count": 56,
   "id": "3d9cbc39",
   "metadata": {},
   "outputs": [],
   "source": [
    "# Creo un dataset con las filas que puedo completar mediante la división entre price aprox usd y price usd per m2\n",
    "\n",
    "llenar_surface_total = dataset_caba.loc[(dataset_caba.surface_total_in_m2.isnull()) & (dataset_caba.price_aprox_usd.notnull()) & (dataset_caba.price_usd_per_m2.notnull())]"
   ]
  },
  {
   "cell_type": "code",
   "execution_count": 57,
   "id": "38a5fb01",
   "metadata": {},
   "outputs": [
    {
     "name": "stderr",
     "output_type": "stream",
     "text": [
      "E:\\Programas\\anaconda3\\envs\\dhdsblend2021\\lib\\site-packages\\pandas\\core\\generic.py:5170: SettingWithCopyWarning: \n",
      "A value is trying to be set on a copy of a slice from a DataFrame.\n",
      "Try using .loc[row_indexer,col_indexer] = value instead\n",
      "\n",
      "See the caveats in the documentation: https://pandas.pydata.org/pandas-docs/stable/user_guide/indexing.html#returning-a-view-versus-a-copy\n",
      "  self[name] = value\n"
     ]
    }
   ],
   "source": [
    "# Completo los valores nulos de surface total in m2 con los resultados de la división para cada fila\n",
    "\n",
    "llenar_surface_total.surface_total_in_m2 = llenar_surface_total.price_aprox_usd / llenar_surface_total.price_usd_per_m2"
   ]
  },
  {
   "cell_type": "code",
   "execution_count": 58,
   "id": "a2203a19",
   "metadata": {},
   "outputs": [],
   "source": [
    "# Imputo en las celdas nan de surface total in m2 del dataset, los valores obtenidos\n",
    "\n",
    "dataset_caba.iloc[llenar_surface_total.index] = llenar_surface_total"
   ]
  },
  {
   "cell_type": "code",
   "execution_count": 59,
   "id": "f8412e60",
   "metadata": {
    "scrolled": false
   },
   "outputs": [
    {
     "name": "stdout",
     "output_type": "stream",
     "text": [
      "Cantidad de filas a imputar: 101\n"
     ]
    }
   ],
   "source": [
    "print(\"Cantidad de filas a imputar:\", (dataset_caba.loc[dataset_caba.surface_total_in_m2.isnull()].shape)[0])"
   ]
  },
  {
   "cell_type": "markdown",
   "id": "4706223b",
   "metadata": {},
   "source": [
    "Estos registros faltantes los completaré mediante cálculos estadísticos"
   ]
  },
  {
   "cell_type": "code",
   "execution_count": 60,
   "id": "af1df09e",
   "metadata": {
    "scrolled": true
   },
   "outputs": [
    {
     "data": {
      "text/html": [
       "<div>\n",
       "<style scoped>\n",
       "    .dataframe tbody tr th:only-of-type {\n",
       "        vertical-align: middle;\n",
       "    }\n",
       "\n",
       "    .dataframe tbody tr th {\n",
       "        vertical-align: top;\n",
       "    }\n",
       "\n",
       "    .dataframe thead tr th {\n",
       "        text-align: left;\n",
       "    }\n",
       "\n",
       "    .dataframe thead tr:last-of-type th {\n",
       "        text-align: right;\n",
       "    }\n",
       "</style>\n",
       "<table border=\"1\" class=\"dataframe\">\n",
       "  <thead>\n",
       "    <tr>\n",
       "      <th></th>\n",
       "      <th></th>\n",
       "      <th colspan=\"8\" halign=\"left\">surface_total_in_m2</th>\n",
       "    </tr>\n",
       "    <tr>\n",
       "      <th></th>\n",
       "      <th></th>\n",
       "      <th>count</th>\n",
       "      <th>mean</th>\n",
       "      <th>std</th>\n",
       "      <th>min</th>\n",
       "      <th>25%</th>\n",
       "      <th>50%</th>\n",
       "      <th>75%</th>\n",
       "      <th>max</th>\n",
       "    </tr>\n",
       "    <tr>\n",
       "      <th>place_name</th>\n",
       "      <th>property_type</th>\n",
       "      <th></th>\n",
       "      <th></th>\n",
       "      <th></th>\n",
       "      <th></th>\n",
       "      <th></th>\n",
       "      <th></th>\n",
       "      <th></th>\n",
       "      <th></th>\n",
       "    </tr>\n",
       "  </thead>\n",
       "  <tbody>\n",
       "    <tr>\n",
       "      <th rowspan=\"4\" valign=\"top\">Abasto</th>\n",
       "      <th>PH</th>\n",
       "      <td>14.0</td>\n",
       "      <td>136.000000</td>\n",
       "      <td>140.518819</td>\n",
       "      <td>22.000000</td>\n",
       "      <td>66.25</td>\n",
       "      <td>103.000000</td>\n",
       "      <td>155.250000</td>\n",
       "      <td>590.000000</td>\n",
       "    </tr>\n",
       "    <tr>\n",
       "      <th>apartment</th>\n",
       "      <td>76.0</td>\n",
       "      <td>224.585412</td>\n",
       "      <td>397.083217</td>\n",
       "      <td>24.000000</td>\n",
       "      <td>42.25</td>\n",
       "      <td>58.000000</td>\n",
       "      <td>104.000000</td>\n",
       "      <td>1887.961499</td>\n",
       "    </tr>\n",
       "    <tr>\n",
       "      <th>house</th>\n",
       "      <td>5.0</td>\n",
       "      <td>230.600000</td>\n",
       "      <td>150.513455</td>\n",
       "      <td>75.000000</td>\n",
       "      <td>75.00</td>\n",
       "      <td>260.000000</td>\n",
       "      <td>343.000000</td>\n",
       "      <td>400.000000</td>\n",
       "    </tr>\n",
       "    <tr>\n",
       "      <th>store</th>\n",
       "      <td>9.0</td>\n",
       "      <td>187.508918</td>\n",
       "      <td>175.995881</td>\n",
       "      <td>17.000000</td>\n",
       "      <td>112.00</td>\n",
       "      <td>177.580266</td>\n",
       "      <td>200.000000</td>\n",
       "      <td>620.000000</td>\n",
       "    </tr>\n",
       "    <tr>\n",
       "      <th>Agronomía</th>\n",
       "      <th>PH</th>\n",
       "      <td>7.0</td>\n",
       "      <td>874.586714</td>\n",
       "      <td>903.652058</td>\n",
       "      <td>65.000000</td>\n",
       "      <td>152.50</td>\n",
       "      <td>352.890000</td>\n",
       "      <td>1561.538249</td>\n",
       "      <td>2276.140499</td>\n",
       "    </tr>\n",
       "    <tr>\n",
       "      <th>...</th>\n",
       "      <th>...</th>\n",
       "      <td>...</td>\n",
       "      <td>...</td>\n",
       "      <td>...</td>\n",
       "      <td>...</td>\n",
       "      <td>...</td>\n",
       "      <td>...</td>\n",
       "      <td>...</td>\n",
       "      <td>...</td>\n",
       "    </tr>\n",
       "    <tr>\n",
       "      <th>Villa Urquiza</th>\n",
       "      <th>store</th>\n",
       "      <td>24.0</td>\n",
       "      <td>293.132494</td>\n",
       "      <td>430.022291</td>\n",
       "      <td>19.791367</td>\n",
       "      <td>74.25</td>\n",
       "      <td>168.000000</td>\n",
       "      <td>352.890000</td>\n",
       "      <td>1905.000000</td>\n",
       "    </tr>\n",
       "    <tr>\n",
       "      <th rowspan=\"4\" valign=\"top\">Villa del Parque</th>\n",
       "      <th>PH</th>\n",
       "      <td>46.0</td>\n",
       "      <td>405.075924</td>\n",
       "      <td>590.343620</td>\n",
       "      <td>17.644500</td>\n",
       "      <td>78.50</td>\n",
       "      <td>129.500000</td>\n",
       "      <td>352.890000</td>\n",
       "      <td>2646.674998</td>\n",
       "    </tr>\n",
       "    <tr>\n",
       "      <th>apartment</th>\n",
       "      <td>352.0</td>\n",
       "      <td>244.453141</td>\n",
       "      <td>434.311390</td>\n",
       "      <td>17.644500</td>\n",
       "      <td>49.00</td>\n",
       "      <td>65.500000</td>\n",
       "      <td>101.000000</td>\n",
       "      <td>3475.966498</td>\n",
       "    </tr>\n",
       "    <tr>\n",
       "      <th>house</th>\n",
       "      <td>50.0</td>\n",
       "      <td>1148.699528</td>\n",
       "      <td>1635.392581</td>\n",
       "      <td>78.000000</td>\n",
       "      <td>222.00</td>\n",
       "      <td>352.890000</td>\n",
       "      <td>1276.070249</td>\n",
       "      <td>5857.973996</td>\n",
       "    </tr>\n",
       "    <tr>\n",
       "      <th>store</th>\n",
       "      <td>13.0</td>\n",
       "      <td>501.129231</td>\n",
       "      <td>819.514236</td>\n",
       "      <td>38.000000</td>\n",
       "      <td>175.00</td>\n",
       "      <td>352.890000</td>\n",
       "      <td>450.000000</td>\n",
       "      <td>3176.009998</td>\n",
       "    </tr>\n",
       "  </tbody>\n",
       "</table>\n",
       "<p>235 rows × 8 columns</p>\n",
       "</div>"
      ],
      "text/plain": [
       "                               surface_total_in_m2                            \\\n",
       "                                             count         mean          std   \n",
       "place_name       property_type                                                 \n",
       "Abasto           PH                           14.0   136.000000   140.518819   \n",
       "                 apartment                    76.0   224.585412   397.083217   \n",
       "                 house                         5.0   230.600000   150.513455   \n",
       "                 store                         9.0   187.508918   175.995881   \n",
       "Agronomía        PH                            7.0   874.586714   903.652058   \n",
       "...                                            ...          ...          ...   \n",
       "Villa Urquiza    store                        24.0   293.132494   430.022291   \n",
       "Villa del Parque PH                           46.0   405.075924   590.343620   \n",
       "                 apartment                   352.0   244.453141   434.311390   \n",
       "                 house                        50.0  1148.699528  1635.392581   \n",
       "                 store                        13.0   501.129231   819.514236   \n",
       "\n",
       "                                                                            \\\n",
       "                                      min     25%         50%          75%   \n",
       "place_name       property_type                                               \n",
       "Abasto           PH             22.000000   66.25  103.000000   155.250000   \n",
       "                 apartment      24.000000   42.25   58.000000   104.000000   \n",
       "                 house          75.000000   75.00  260.000000   343.000000   \n",
       "                 store          17.000000  112.00  177.580266   200.000000   \n",
       "Agronomía        PH             65.000000  152.50  352.890000  1561.538249   \n",
       "...                                   ...     ...         ...          ...   \n",
       "Villa Urquiza    store          19.791367   74.25  168.000000   352.890000   \n",
       "Villa del Parque PH             17.644500   78.50  129.500000   352.890000   \n",
       "                 apartment      17.644500   49.00   65.500000   101.000000   \n",
       "                 house          78.000000  222.00  352.890000  1276.070249   \n",
       "                 store          38.000000  175.00  352.890000   450.000000   \n",
       "\n",
       "                                             \n",
       "                                        max  \n",
       "place_name       property_type               \n",
       "Abasto           PH              590.000000  \n",
       "                 apartment      1887.961499  \n",
       "                 house           400.000000  \n",
       "                 store           620.000000  \n",
       "Agronomía        PH             2276.140499  \n",
       "...                                     ...  \n",
       "Villa Urquiza    store          1905.000000  \n",
       "Villa del Parque PH             2646.674998  \n",
       "                 apartment      3475.966498  \n",
       "                 house          5857.973996  \n",
       "                 store          3176.009998  \n",
       "\n",
       "[235 rows x 8 columns]"
      ]
     },
     "execution_count": 60,
     "metadata": {},
     "output_type": "execute_result"
    }
   ],
   "source": [
    "# Agrupo por place name y property type, las cuales son las variables que más afectan a la superficie, para analizar la media de la superficie total\n",
    "\n",
    "analisis_surface_total = dataset_caba.groupby([\"place_name\", \"property_type\"])[[\"surface_total_in_m2\"]]\n",
    "\n",
    "# Genero estadisticas descriptivas \n",
    "\n",
    "analisis_surface_total.describe()\n"
   ]
  },
  {
   "cell_type": "markdown",
   "id": "aa238a5e",
   "metadata": {},
   "source": [
    "Debido a los altos valores en el desvío estándar y a la diferencia entre la media, el percentil 25, 75 y el máximo, para mis cálculos utilizaré la media recortada"
   ]
  },
  {
   "cell_type": "code",
   "execution_count": 61,
   "id": "4bebd997",
   "metadata": {},
   "outputs": [],
   "source": [
    "# Mediante un transform sobre los grupos, calculo la media recortada de la superficie total\n",
    "\n",
    "media_surface_total = analisis_surface_total.transform(lambda x: stats.trim_mean(x,0.25))"
   ]
  },
  {
   "cell_type": "code",
   "execution_count": 62,
   "id": "c6eb3037",
   "metadata": {},
   "outputs": [
    {
     "name": "stderr",
     "output_type": "stream",
     "text": [
      "E:\\Programas\\anaconda3\\envs\\dhdsblend2021\\lib\\site-packages\\pandas\\core\\indexing.py:1715: SettingWithCopyWarning: \n",
      "A value is trying to be set on a copy of a slice from a DataFrame.\n",
      "Try using .loc[row_indexer,col_indexer] = value instead\n",
      "\n",
      "See the caveats in the documentation: https://pandas.pydata.org/pandas-docs/stable/user_guide/indexing.html#returning-a-view-versus-a-copy\n",
      "  isetter(loc, v)\n"
     ]
    }
   ],
   "source": [
    "# Relleno cada valor nan de surface total in m2 con su valor correspondiente de media surface total\n",
    "\n",
    "dataset_caba.loc[dataset_caba.surface_total_in_m2.isnull(), \"surface_total_in_m2\"] = media_surface_total[dataset_caba.surface_total_in_m2.isnull()]"
   ]
  },
  {
   "cell_type": "code",
   "execution_count": 63,
   "id": "98733be5",
   "metadata": {
    "scrolled": false
   },
   "outputs": [
    {
     "name": "stdout",
     "output_type": "stream",
     "text": [
      "Cantidad de filas a imputar: 75\n"
     ]
    }
   ],
   "source": [
    "print(\"Cantidad de filas a imputar:\", (dataset_caba.loc[dataset_caba.surface_total_in_m2.isnull()].shape)[0])"
   ]
  },
  {
   "cell_type": "markdown",
   "id": "200db7eb",
   "metadata": {},
   "source": [
    "### Price usd per m2"
   ]
  },
  {
   "cell_type": "markdown",
   "id": "dc30e34c",
   "metadata": {},
   "source": [
    "En price usd per m2, aun me quedan algunos registros sin completar los cuales rellenaré mediante la división entre price aprox usd y surface total in m2"
   ]
  },
  {
   "cell_type": "code",
   "execution_count": 64,
   "id": "093dfe1e",
   "metadata": {},
   "outputs": [
    {
     "name": "stdout",
     "output_type": "stream",
     "text": [
      "Cantidad de filas a imputar: 177\n"
     ]
    }
   ],
   "source": [
    "print(\"Cantidad de filas a imputar:\", (dataset_caba[dataset_caba.price_usd_per_m2.isnull()].shape)[0])"
   ]
  },
  {
   "cell_type": "code",
   "execution_count": 65,
   "id": "c7fa05d3",
   "metadata": {
    "scrolled": true
   },
   "outputs": [],
   "source": [
    "# Selecciono solo las filas que contienen la información para rellenar\n",
    "\n",
    "fill_division = dataset_caba.loc[(dataset_caba.price_usd_per_m2.isnull()) & (dataset_caba.price_aprox_usd.notnull()) & (dataset_caba.surface_total_in_m2.notnull())]"
   ]
  },
  {
   "cell_type": "code",
   "execution_count": 66,
   "id": "8ba632ff",
   "metadata": {
    "scrolled": true
   },
   "outputs": [
    {
     "name": "stderr",
     "output_type": "stream",
     "text": [
      "E:\\Programas\\anaconda3\\envs\\dhdsblend2021\\lib\\site-packages\\pandas\\core\\generic.py:5170: SettingWithCopyWarning: \n",
      "A value is trying to be set on a copy of a slice from a DataFrame.\n",
      "Try using .loc[row_indexer,col_indexer] = value instead\n",
      "\n",
      "See the caveats in the documentation: https://pandas.pydata.org/pandas-docs/stable/user_guide/indexing.html#returning-a-view-versus-a-copy\n",
      "  self[name] = value\n"
     ]
    }
   ],
   "source": [
    "# LLeno los valores nulos de price usd per m2 mediante la división de las variables correspondientes\n",
    "\n",
    "fill_division.price_usd_per_m2 = fill_division.price_aprox_usd / fill_division.surface_total_in_m2"
   ]
  },
  {
   "cell_type": "code",
   "execution_count": 67,
   "id": "50fc6815",
   "metadata": {
    "scrolled": false
   },
   "outputs": [],
   "source": [
    "# Imputo en el dataset los valores faltantes de price usd per m2\n",
    "\n",
    "dataset_caba.iloc[fill_division.index] = fill_division"
   ]
  },
  {
   "cell_type": "code",
   "execution_count": 68,
   "id": "c604b600",
   "metadata": {
    "scrolled": false
   },
   "outputs": [
    {
     "name": "stdout",
     "output_type": "stream",
     "text": [
      "Cantidad de filas a imputar: 138\n"
     ]
    }
   ],
   "source": [
    "print(\"Cantidad de filas a imputar:\", (dataset_caba[dataset_caba.price_usd_per_m2.isnull()].shape)[0])"
   ]
  },
  {
   "cell_type": "markdown",
   "id": "a3f3e1d3",
   "metadata": {},
   "source": [
    "Los registros que me han quedado en nulo, son aquellos en los cuales no se pudo realizar la división porque price aprox usd es nulo o surface total in m2 es nulo.\n",
    "\n",
    "Los nulos de **price aprox usd** y **surface total in m2** surgen ya que, originalmente, a la hora de completar los nulos de estas variables con la media recortada, los valores extremos (fuera de los percentiles 25 y 75) quedaban sin una media especificada.\n",
    "\n",
    "Para no tener estos registros nulos, debería de hacer mis cálculos con la media. Sin embargo, prefiero eliminar estos registros a fin de tener unos valores más cercanos a la realidad a costa de perder dispersión en los datos."
   ]
  },
  {
   "cell_type": "markdown",
   "id": "2599e466",
   "metadata": {},
   "source": [
    "**Aclaración: La eliminación de las filas con Nans se hará al final de la notebook**"
   ]
  },
  {
   "cell_type": "markdown",
   "id": "09b86c38",
   "metadata": {},
   "source": [
    "### Surface covered in m2"
   ]
  },
  {
   "cell_type": "code",
   "execution_count": 69,
   "id": "8d5e8ce4",
   "metadata": {},
   "outputs": [
    {
     "name": "stdout",
     "output_type": "stream",
     "text": [
      "Cantidad de filas a imputar: 2054\n"
     ]
    }
   ],
   "source": [
    "print(\"Cantidad de filas a imputar:\", (dataset_caba[dataset_caba.surface_covered_in_m2.isnull()].shape)[0])"
   ]
  },
  {
   "cell_type": "markdown",
   "id": "3afa493e",
   "metadata": {},
   "source": [
    "Para completar los valores nulos de surface covered, utilizare cálculos estadísticos"
   ]
  },
  {
   "cell_type": "code",
   "execution_count": 70,
   "id": "b54c122f",
   "metadata": {
    "scrolled": true
   },
   "outputs": [
    {
     "data": {
      "text/html": [
       "<div>\n",
       "<style scoped>\n",
       "    .dataframe tbody tr th:only-of-type {\n",
       "        vertical-align: middle;\n",
       "    }\n",
       "\n",
       "    .dataframe tbody tr th {\n",
       "        vertical-align: top;\n",
       "    }\n",
       "\n",
       "    .dataframe thead tr th {\n",
       "        text-align: left;\n",
       "    }\n",
       "\n",
       "    .dataframe thead tr:last-of-type th {\n",
       "        text-align: right;\n",
       "    }\n",
       "</style>\n",
       "<table border=\"1\" class=\"dataframe\">\n",
       "  <thead>\n",
       "    <tr>\n",
       "      <th></th>\n",
       "      <th></th>\n",
       "      <th colspan=\"8\" halign=\"left\">surface_covered_in_m2</th>\n",
       "    </tr>\n",
       "    <tr>\n",
       "      <th></th>\n",
       "      <th></th>\n",
       "      <th>count</th>\n",
       "      <th>mean</th>\n",
       "      <th>std</th>\n",
       "      <th>min</th>\n",
       "      <th>25%</th>\n",
       "      <th>50%</th>\n",
       "      <th>75%</th>\n",
       "      <th>max</th>\n",
       "    </tr>\n",
       "    <tr>\n",
       "      <th>place_name</th>\n",
       "      <th>property_type</th>\n",
       "      <th></th>\n",
       "      <th></th>\n",
       "      <th></th>\n",
       "      <th></th>\n",
       "      <th></th>\n",
       "      <th></th>\n",
       "      <th></th>\n",
       "      <th></th>\n",
       "    </tr>\n",
       "  </thead>\n",
       "  <tbody>\n",
       "    <tr>\n",
       "      <th rowspan=\"4\" valign=\"top\">Abasto</th>\n",
       "      <th>PH</th>\n",
       "      <td>13.0</td>\n",
       "      <td>102.230769</td>\n",
       "      <td>116.676300</td>\n",
       "      <td>22.0</td>\n",
       "      <td>47.00</td>\n",
       "      <td>68.0</td>\n",
       "      <td>94.0</td>\n",
       "      <td>470.0</td>\n",
       "    </tr>\n",
       "    <tr>\n",
       "      <th>apartment</th>\n",
       "      <td>71.0</td>\n",
       "      <td>54.816901</td>\n",
       "      <td>26.004016</td>\n",
       "      <td>24.0</td>\n",
       "      <td>37.00</td>\n",
       "      <td>50.0</td>\n",
       "      <td>61.5</td>\n",
       "      <td>164.0</td>\n",
       "    </tr>\n",
       "    <tr>\n",
       "      <th>house</th>\n",
       "      <td>4.0</td>\n",
       "      <td>137.500000</td>\n",
       "      <td>153.215534</td>\n",
       "      <td>5.0</td>\n",
       "      <td>5.00</td>\n",
       "      <td>132.5</td>\n",
       "      <td>265.0</td>\n",
       "      <td>280.0</td>\n",
       "    </tr>\n",
       "    <tr>\n",
       "      <th>store</th>\n",
       "      <td>7.0</td>\n",
       "      <td>177.285714</td>\n",
       "      <td>203.113855</td>\n",
       "      <td>17.0</td>\n",
       "      <td>78.00</td>\n",
       "      <td>118.0</td>\n",
       "      <td>165.0</td>\n",
       "      <td>620.0</td>\n",
       "    </tr>\n",
       "    <tr>\n",
       "      <th>Agronomía</th>\n",
       "      <th>PH</th>\n",
       "      <td>7.0</td>\n",
       "      <td>94.714286</td>\n",
       "      <td>51.622716</td>\n",
       "      <td>20.0</td>\n",
       "      <td>74.00</td>\n",
       "      <td>87.0</td>\n",
       "      <td>111.5</td>\n",
       "      <td>185.0</td>\n",
       "    </tr>\n",
       "    <tr>\n",
       "      <th>...</th>\n",
       "      <th>...</th>\n",
       "      <td>...</td>\n",
       "      <td>...</td>\n",
       "      <td>...</td>\n",
       "      <td>...</td>\n",
       "      <td>...</td>\n",
       "      <td>...</td>\n",
       "      <td>...</td>\n",
       "      <td>...</td>\n",
       "    </tr>\n",
       "    <tr>\n",
       "      <th>Villa Urquiza</th>\n",
       "      <th>store</th>\n",
       "      <td>22.0</td>\n",
       "      <td>153.863636</td>\n",
       "      <td>397.152279</td>\n",
       "      <td>20.0</td>\n",
       "      <td>20.00</td>\n",
       "      <td>35.5</td>\n",
       "      <td>102.0</td>\n",
       "      <td>1905.0</td>\n",
       "    </tr>\n",
       "    <tr>\n",
       "      <th rowspan=\"4\" valign=\"top\">Villa del Parque</th>\n",
       "      <th>PH</th>\n",
       "      <td>46.0</td>\n",
       "      <td>72.978261</td>\n",
       "      <td>42.349073</td>\n",
       "      <td>1.0</td>\n",
       "      <td>45.25</td>\n",
       "      <td>65.0</td>\n",
       "      <td>90.0</td>\n",
       "      <td>180.0</td>\n",
       "    </tr>\n",
       "    <tr>\n",
       "      <th>apartment</th>\n",
       "      <td>341.0</td>\n",
       "      <td>58.829912</td>\n",
       "      <td>34.457226</td>\n",
       "      <td>1.0</td>\n",
       "      <td>42.00</td>\n",
       "      <td>58.0</td>\n",
       "      <td>63.0</td>\n",
       "      <td>481.0</td>\n",
       "    </tr>\n",
       "    <tr>\n",
       "      <th>house</th>\n",
       "      <td>47.0</td>\n",
       "      <td>177.212766</td>\n",
       "      <td>112.689635</td>\n",
       "      <td>1.0</td>\n",
       "      <td>99.50</td>\n",
       "      <td>175.0</td>\n",
       "      <td>232.0</td>\n",
       "      <td>410.0</td>\n",
       "    </tr>\n",
       "    <tr>\n",
       "      <th>store</th>\n",
       "      <td>12.0</td>\n",
       "      <td>188.916667</td>\n",
       "      <td>179.628636</td>\n",
       "      <td>20.0</td>\n",
       "      <td>33.50</td>\n",
       "      <td>140.0</td>\n",
       "      <td>297.0</td>\n",
       "      <td>481.0</td>\n",
       "    </tr>\n",
       "  </tbody>\n",
       "</table>\n",
       "<p>235 rows × 8 columns</p>\n",
       "</div>"
      ],
      "text/plain": [
       "                               surface_covered_in_m2                          \\\n",
       "                                               count        mean         std   \n",
       "place_name       property_type                                                 \n",
       "Abasto           PH                             13.0  102.230769  116.676300   \n",
       "                 apartment                      71.0   54.816901   26.004016   \n",
       "                 house                           4.0  137.500000  153.215534   \n",
       "                 store                           7.0  177.285714  203.113855   \n",
       "Agronomía        PH                              7.0   94.714286   51.622716   \n",
       "...                                              ...         ...         ...   \n",
       "Villa Urquiza    store                          22.0  153.863636  397.152279   \n",
       "Villa del Parque PH                             46.0   72.978261   42.349073   \n",
       "                 apartment                     341.0   58.829912   34.457226   \n",
       "                 house                          47.0  177.212766  112.689635   \n",
       "                 store                          12.0  188.916667  179.628636   \n",
       "\n",
       "                                                                   \n",
       "                                 min    25%    50%    75%     max  \n",
       "place_name       property_type                                     \n",
       "Abasto           PH             22.0  47.00   68.0   94.0   470.0  \n",
       "                 apartment      24.0  37.00   50.0   61.5   164.0  \n",
       "                 house           5.0   5.00  132.5  265.0   280.0  \n",
       "                 store          17.0  78.00  118.0  165.0   620.0  \n",
       "Agronomía        PH             20.0  74.00   87.0  111.5   185.0  \n",
       "...                              ...    ...    ...    ...     ...  \n",
       "Villa Urquiza    store          20.0  20.00   35.5  102.0  1905.0  \n",
       "Villa del Parque PH              1.0  45.25   65.0   90.0   180.0  \n",
       "                 apartment       1.0  42.00   58.0   63.0   481.0  \n",
       "                 house           1.0  99.50  175.0  232.0   410.0  \n",
       "                 store          20.0  33.50  140.0  297.0   481.0  \n",
       "\n",
       "[235 rows x 8 columns]"
      ]
     },
     "execution_count": 70,
     "metadata": {},
     "output_type": "execute_result"
    }
   ],
   "source": [
    "# Agrupo por place name y property type, las cuales son las variables que mas afectan a la superficie, para analizar la media de la superficie cubierta\n",
    "\n",
    "analisis_surface_covered = dataset_caba.groupby([\"place_name\", \"property_type\"])[[\"surface_covered_in_m2\"]]\n",
    "\n",
    "# Genero estadisticas descriptivas \n",
    "\n",
    "analisis_surface_covered.describe()\n"
   ]
  },
  {
   "cell_type": "markdown",
   "id": "f8fbb9db",
   "metadata": {},
   "source": [
    "Debido a los altos valores en el desvío estándar y a la diferencia entre la media, el percentil 25, 75 y el máximo, para mis cálculos utilizaré la media recortada"
   ]
  },
  {
   "cell_type": "code",
   "execution_count": 71,
   "id": "f4b9278f",
   "metadata": {},
   "outputs": [],
   "source": [
    "# Mediante un transform sobre los grupos, calculo la media recortada de la superficie cubierta\n",
    "\n",
    "media_surface_covered = analisis_surface_covered.transform(lambda x: stats.trim_mean(x,0.25))"
   ]
  },
  {
   "cell_type": "code",
   "execution_count": 72,
   "id": "ec14a680",
   "metadata": {},
   "outputs": [
    {
     "name": "stderr",
     "output_type": "stream",
     "text": [
      "E:\\Programas\\anaconda3\\envs\\dhdsblend2021\\lib\\site-packages\\pandas\\core\\indexing.py:1715: SettingWithCopyWarning: \n",
      "A value is trying to be set on a copy of a slice from a DataFrame.\n",
      "Try using .loc[row_indexer,col_indexer] = value instead\n",
      "\n",
      "See the caveats in the documentation: https://pandas.pydata.org/pandas-docs/stable/user_guide/indexing.html#returning-a-view-versus-a-copy\n",
      "  isetter(loc, v)\n"
     ]
    }
   ],
   "source": [
    "# Relleno cada valor nan de surface covered in m2 con su valor correspondiente de media surface covered\n",
    "\n",
    "dataset_caba.loc[dataset_caba.surface_covered_in_m2.isnull(), \"surface_covered_in_m2\"] = media_surface_covered[dataset_caba.surface_covered_in_m2.isnull()]"
   ]
  },
  {
   "cell_type": "code",
   "execution_count": 73,
   "id": "36e090e6",
   "metadata": {
    "scrolled": true
   },
   "outputs": [
    {
     "name": "stdout",
     "output_type": "stream",
     "text": [
      "Cantidad de filas a imputar: 299\n"
     ]
    }
   ],
   "source": [
    "# Verifico que no me hayan quedado registros en nulo.\n",
    "\n",
    "print(\"Cantidad de filas a imputar:\", (dataset_caba.loc[dataset_caba.surface_covered_in_m2.isnull()].shape)[0])"
   ]
  },
  {
   "cell_type": "markdown",
   "id": "ff6c165f",
   "metadata": {},
   "source": [
    "**Estos registros seran eliminados al final de la notebook**\n"
   ]
  },
  {
   "cell_type": "markdown",
   "id": "ff6933e8",
   "metadata": {},
   "source": [
    "### Lat"
   ]
  },
  {
   "cell_type": "markdown",
   "id": "e67851f1",
   "metadata": {},
   "source": [
    "A fin de rellenar los valores nulos en la variable lat, agruparé las propiedades según su ubicación y hare un promedio de la latitud. Por lo que, obtendré un latitud aproximada para cada barrio"
   ]
  },
  {
   "cell_type": "code",
   "execution_count": 74,
   "id": "7f172973",
   "metadata": {},
   "outputs": [
    {
     "name": "stdout",
     "output_type": "stream",
     "text": [
      "Cantidad de filas a imputar: 7742\n"
     ]
    }
   ],
   "source": [
    "print(\"Cantidad de filas a imputar:\", (dataset_caba.loc[dataset_caba.lat.isnull()].shape)[0])"
   ]
  },
  {
   "cell_type": "code",
   "execution_count": 75,
   "id": "ca1d2f07",
   "metadata": {
    "scrolled": true
   },
   "outputs": [],
   "source": [
    "# Agrupo las propiedades según su place name y sobre la latitud calculo la media\n",
    "\n",
    "lat_aprox = dataset_caba.groupby(\"place_name\")[[\"lat\"]].mean()\n",
    "\n",
    "# Renombro para que al realizar el merge no me modifique el nombre de la variable original en el dataset\n",
    "lat_aprox.rename(columns = {\"lat\": \"prom_latitud\"}, inplace = True)\n"
   ]
  },
  {
   "cell_type": "code",
   "execution_count": 76,
   "id": "824da8d5",
   "metadata": {
    "scrolled": true
   },
   "outputs": [],
   "source": [
    "# Agrego al dataset, el promedio de la latitud correspondiente a cada propiedad según su place name\n",
    "\n",
    "dataset_caba = pd.merge(lat_aprox, dataset_caba, on = \"place_name\", how = \"inner\")"
   ]
  },
  {
   "cell_type": "code",
   "execution_count": 77,
   "id": "05af0adc",
   "metadata": {},
   "outputs": [],
   "source": [
    "# Relleno los valores nulos de lat con los valores brindados por el promedio de la latitud según su place name\n",
    "\n",
    "dataset_caba.lat.fillna(dataset_caba.prom_latitud, axis = 0, inplace = True)"
   ]
  },
  {
   "cell_type": "code",
   "execution_count": 78,
   "id": "14a979c0",
   "metadata": {},
   "outputs": [],
   "source": [
    "# Elimino la columna que contiene el promedio de la latitud ya que no será útil a futuro\n",
    "\n",
    "dataset_caba.drop(\"prom_latitud\", axis = 1, inplace = True)"
   ]
  },
  {
   "cell_type": "code",
   "execution_count": 79,
   "id": "8d6d22be",
   "metadata": {},
   "outputs": [
    {
     "name": "stdout",
     "output_type": "stream",
     "text": [
      "Cantidad de filas a imputar: 0\n"
     ]
    }
   ],
   "source": [
    "# Verifico que se haya realizado correctamente la imputación\n",
    "\n",
    "print(\"Cantidad de filas a imputar:\", (dataset_caba.loc[dataset_caba.lat.isnull()].shape)[0])"
   ]
  },
  {
   "cell_type": "markdown",
   "id": "5406174a",
   "metadata": {},
   "source": [
    "### Lon"
   ]
  },
  {
   "cell_type": "markdown",
   "id": "2f7052b3",
   "metadata": {},
   "source": [
    "Para llenar la variable Lon, voy a seguir la misma estrategia utilizada para la variable Lat"
   ]
  },
  {
   "cell_type": "code",
   "execution_count": 80,
   "id": "b5b29b35",
   "metadata": {
    "scrolled": true
   },
   "outputs": [
    {
     "name": "stdout",
     "output_type": "stream",
     "text": [
      "Cantidad de filas a imputar: 7742\n"
     ]
    }
   ],
   "source": [
    "print(\"Cantidad de filas a imputar:\", (dataset_caba.loc[dataset_caba.lon.isnull()].shape)[0])"
   ]
  },
  {
   "cell_type": "code",
   "execution_count": 81,
   "id": "fbcc39a1",
   "metadata": {
    "scrolled": true
   },
   "outputs": [],
   "source": [
    "# Agrupo las propiedades según su place name y sobre la longitud calculo la media\n",
    "\n",
    "lon_aprox = dataset_caba.groupby(\"place_name\")[[\"lon\"]].mean()\n",
    "\n",
    "# Renombro para que al realizar el merge no me modifique el nombre de la variable original en el dataset\n",
    "lon_aprox.rename(columns = {\"lon\": \"prom_longitud\"}, inplace = True)\n"
   ]
  },
  {
   "cell_type": "code",
   "execution_count": 82,
   "id": "696e1913",
   "metadata": {
    "scrolled": true
   },
   "outputs": [],
   "source": [
    "# Agrego al dataset, el promedio de la longitud correspondiente a cada propiedad según su place name\n",
    "\n",
    "dataset_caba = pd.merge(lon_aprox, dataset_caba, on = \"place_name\", how = \"inner\")"
   ]
  },
  {
   "cell_type": "code",
   "execution_count": 83,
   "id": "6be8dc1c",
   "metadata": {},
   "outputs": [],
   "source": [
    "# Relleno los valores nulos de lon con los valores brindados por el promedio de la longitud según su place name\n",
    "\n",
    "dataset_caba.lon.fillna(dataset_caba.prom_longitud, axis = 0, inplace = True)"
   ]
  },
  {
   "cell_type": "code",
   "execution_count": 84,
   "id": "bddbb2f6",
   "metadata": {},
   "outputs": [],
   "source": [
    "# Elimino la columna que contiene el promedio de la longitud ya que no será útil a futuro\n",
    "\n",
    "dataset_caba.drop(\"prom_longitud\", axis = 1, inplace = True)"
   ]
  },
  {
   "cell_type": "code",
   "execution_count": 85,
   "id": "f26d0092",
   "metadata": {
    "scrolled": true
   },
   "outputs": [
    {
     "name": "stdout",
     "output_type": "stream",
     "text": [
      "Cantidad de filas a imputar: 0\n"
     ]
    }
   ],
   "source": [
    "# Verifico que se haya realizado correctamente la imputación\n",
    "\n",
    "print(\"Cantidad de filas a imputar:\", (dataset_caba.loc[dataset_caba.lon.isnull()].shape)[0])"
   ]
  },
  {
   "cell_type": "markdown",
   "id": "48157e94",
   "metadata": {},
   "source": [
    "### Garage"
   ]
  },
  {
   "cell_type": "code",
   "execution_count": 86,
   "id": "32ecd36a",
   "metadata": {
    "scrolled": true
   },
   "outputs": [],
   "source": [
    "# Busco en la descripción y en el título aquellas propiedades que contengan la palabra garage o similares\n",
    "\n",
    "garage = dataset_caba.description.apply(lambda x: re.search(\"garage|estacionamiento|cochera|entrada para auto|entrada de auto|entrada de coche|entrada para coche\", str(x), flags = re.I))\n",
    "garage_titulo = dataset_caba.title.apply(lambda x: re.search(\"garage|estacionamiento|cochera|entrada para auto|entrada de auto|entrada de coche|entrada para coche\", str(x), flags = re.I))\n",
    "\n",
    "# Guardo en una nueva variable solo los objetos matchs\n",
    "\n",
    "garage_matchs = garage[garage.notnull()]\n",
    "garage_titulo_matchs = garage_titulo[garage_titulo.notnull()]\n"
   ]
  },
  {
   "cell_type": "code",
   "execution_count": 87,
   "id": "8ba93f9d",
   "metadata": {},
   "outputs": [
    {
     "data": {
      "text/plain": [
       "14       <re.Match object; span=(46, 61), match='ESTACI...\n",
       "16       <re.Match object; span=(679, 686), match='coch...\n",
       "31       <re.Match object; span=(583, 590), match='COCH...\n",
       "38       <re.Match object; span=(672, 687), match='Esta...\n",
       "40       <re.Match object; span=(830, 837), match='Coch...\n",
       "                               ...                        \n",
       "30734    <re.Match object; span=(162, 169), match='coch...\n",
       "30735    <re.Match object; span=(395, 402), match='COCH...\n",
       "30736    <re.Match object; span=(293, 300), match='Coch...\n",
       "30737    <re.Match object; span=(430, 437), match='COCH...\n",
       "30738    <re.Match object; span=(82, 89), match='Cochera'>\n",
       "Name: description, Length: 11253, dtype: object"
      ]
     },
     "execution_count": 87,
     "metadata": {},
     "output_type": "execute_result"
    }
   ],
   "source": [
    "garage_matchs"
   ]
  },
  {
   "cell_type": "code",
   "execution_count": 88,
   "id": "536d19e9",
   "metadata": {},
   "outputs": [],
   "source": [
    "# Agrego una columna al dataset llamada garage con el valor por defecto \"No\"\n",
    "\n",
    "dataset_caba[\"garage\"] = 0"
   ]
  },
  {
   "cell_type": "code",
   "execution_count": 89,
   "id": "363c2c38",
   "metadata": {
    "scrolled": false
   },
   "outputs": [
    {
     "name": "stderr",
     "output_type": "stream",
     "text": [
      "E:\\Programas\\anaconda3\\envs\\dhdsblend2021\\lib\\site-packages\\pandas\\core\\indexing.py:670: SettingWithCopyWarning: \n",
      "A value is trying to be set on a copy of a slice from a DataFrame\n",
      "\n",
      "See the caveats in the documentation: https://pandas.pydata.org/pandas-docs/stable/user_guide/indexing.html#returning-a-view-versus-a-copy\n",
      "  iloc._setitem_with_indexer(indexer, value)\n"
     ]
    }
   ],
   "source": [
    "# Modifico a \"Si\" el valor de la variable garage para las propiedades que correspondan\n",
    "\n",
    "dataset_caba.garage.iloc[garage_matchs.index] = 1\n",
    "dataset_caba.garage.iloc[garage_titulo_matchs.index] = 1\n"
   ]
  },
  {
   "cell_type": "code",
   "execution_count": 90,
   "id": "568ee1d2",
   "metadata": {},
   "outputs": [
    {
     "name": "stdout",
     "output_type": "stream",
     "text": [
      "Cantidad de propiedades a imputar: 0\n"
     ]
    }
   ],
   "source": [
    "# Verifico que no me haya quedado alguna propiedad en nulo\n",
    "\n",
    "print(\"Cantidad de propiedades a imputar:\", (dataset_caba.loc[dataset_caba.garage.isnull()].shape)[0])"
   ]
  },
  {
   "cell_type": "markdown",
   "id": "c1c93f03",
   "metadata": {},
   "source": [
    "### Ambientes"
   ]
  },
  {
   "cell_type": "code",
   "execution_count": 91,
   "id": "5221aa5f",
   "metadata": {},
   "outputs": [
    {
     "name": "stdout",
     "output_type": "stream",
     "text": [
      "Cantidad de propiedades a imputar: 15755\n"
     ]
    }
   ],
   "source": [
    "print(\"Cantidad de propiedades a imputar:\", (dataset_caba.loc[dataset_caba.rooms.isnull()].shape)[0])"
   ]
  },
  {
   "cell_type": "code",
   "execution_count": 92,
   "id": "6c9c7055",
   "metadata": {
    "scrolled": true
   },
   "outputs": [],
   "source": [
    "# Busco en la descripción y en el título aquellas propiedades que contengan la palabra ambiente o similares y traigo los números cercanos a izquierda\n",
    "\n",
    "ambientes = dataset_caba.description.apply(lambda x: re.search(\"\\d+\\s*(amb|ambientes|habitaciones|dormitorios)\", str(x), flags = re.I))\n",
    "ambientes_titulo = dataset_caba.title.apply(lambda x: re.search(\"\\d+\\s*(amb|ambientes|habitaciones|dormitorios)\", str(x), flags = re.I))\n",
    "\n",
    "# Guardo en una nueva variable solo los objetos matchs\n",
    "\n",
    "ambientes = ambientes[ambientes.notnull()]\n",
    "ambientes_titulo = ambientes_titulo[ambientes_titulo.notnull()]"
   ]
  },
  {
   "cell_type": "code",
   "execution_count": 93,
   "id": "05dd47c9",
   "metadata": {},
   "outputs": [],
   "source": [
    "# Busco en la descripcion y en el título aquellas propiedades que contengan la palabra monoambiente\n",
    "\n",
    "monoambiente = dataset_caba.description.apply(lambda x: re.search(\"monoambiente\", str(x), flags = re.I))\n",
    "monoambiente_titulo = dataset_caba.title.apply(lambda x: re.search(\"monoambiente\", str(x), flags = re.I))\n",
    "\n",
    "# Guardo en una nueva variable solo los objetos matchs\n",
    "\n",
    "monoambiente = monoambiente[monoambiente.notnull()]\n",
    "monoambiente_titulo = monoambiente_titulo[monoambiente_titulo.notnull()]"
   ]
  },
  {
   "cell_type": "code",
   "execution_count": 94,
   "id": "029993f9",
   "metadata": {},
   "outputs": [],
   "source": [
    "# Guardo en la variable solo el resultado encontrado\n",
    "\n",
    "ambientes = ambientes.apply(lambda x: x.group())\n",
    "ambientes_titulo = ambientes_titulo.apply(lambda x: x.group())"
   ]
  },
  {
   "cell_type": "code",
   "execution_count": 95,
   "id": "4fcfb899",
   "metadata": {},
   "outputs": [],
   "source": [
    "# Cambio todas las letras que estén en mayúscula a minúscula\n",
    "\n",
    "ambientes = ambientes.apply(lambda x: x.lower())\n",
    "ambientes_titulo = ambientes_titulo.apply(lambda x: x.lower())"
   ]
  },
  {
   "cell_type": "code",
   "execution_count": 96,
   "id": "116a1f0d",
   "metadata": {},
   "outputs": [],
   "source": [
    "# Elimino todas las apariciones de \"amb\" y \"habitaciones\" para quedarme solo con el número de ambientes\n",
    "                                          \n",
    "ambientes = ambientes.apply(lambda x: x.rstrip(\"amb\"))\n",
    "ambientes = ambientes.apply(lambda x: x.rstrip(\"habitaciones\"))\n",
    "ambientes = ambientes.apply(lambda x: x.rstrip(\"dormitorios\"))\n",
    "\n",
    "ambientes_titulo = ambientes_titulo.apply(lambda x: x.rstrip(\"amb\"))\n",
    "ambientes_titulo = ambientes_titulo.apply(lambda x: x.rstrip(\"habitaciones\"))\n",
    "ambientes_titulo = ambientes_titulo.apply(lambda x: x.rstrip(\"dormitorios\"))\n"
   ]
  },
  {
   "cell_type": "code",
   "execution_count": 97,
   "id": "3664dfaf",
   "metadata": {
    "scrolled": true
   },
   "outputs": [],
   "source": [
    "# Me quedo solo con las propiedades las cuales en el dataset original tiene como valor de room \"nan\" ya que, no quiero modificar las propiedades que ya contienen un valor.\n",
    "\n",
    "ambientes = ambientes[dataset_caba.rooms.isnull()]\n",
    "ambientes_titulo = ambientes_titulo[dataset_caba.rooms.isnull()]\n",
    "\n",
    "monoambiente = monoambiente[dataset_caba.rooms.isnull()]\n",
    "monoambiente_titulo = monoambiente_titulo[dataset_caba.rooms.isnull()]"
   ]
  },
  {
   "cell_type": "code",
   "execution_count": 98,
   "id": "eede2689",
   "metadata": {},
   "outputs": [],
   "source": [
    "# Debido a que el match me trae objetos del tipo str, los convierto a int\n",
    "\n",
    "ambientes = pd.to_numeric(ambientes)\n",
    "ambientes_titulo = pd.to_numeric(ambientes_titulo)"
   ]
  },
  {
   "cell_type": "markdown",
   "id": "dc738165",
   "metadata": {},
   "source": [
    "Primero, voy a imputar los valores encontrados en la descripción y luego los valores encontrados en el título. Esto lo realizo de esta manera ya que, me parecen más fieles los datos encontrados en el título y, de esta manera, si para una propiedad encontré un numero de ambientes en el título y otro en la descripción, el número final que será imputado es el del título"
   ]
  },
  {
   "cell_type": "code",
   "execution_count": 99,
   "id": "26cbcbd2",
   "metadata": {
    "scrolled": false
   },
   "outputs": [],
   "source": [
    "# En las propiedades que contengan el campo rooms en nulo, inserto el numero de ambientes encontrado en la descripción\n",
    "\n",
    "dataset_caba.rooms.iloc[monoambiente.index] = 1\n",
    "dataset_caba.rooms.iloc[ambientes.index] = ambientes"
   ]
  },
  {
   "cell_type": "code",
   "execution_count": 100,
   "id": "11035504",
   "metadata": {},
   "outputs": [],
   "source": [
    "# En las propiedades que contengan el campo rooms en nulo, inserto el numero de ambientes encontrado en el título\n",
    "\n",
    "dataset_caba.rooms.iloc[monoambiente_titulo.index] = 1\n",
    "dataset_caba.rooms.iloc[ambientes_titulo.index] = ambientes_titulo"
   ]
  },
  {
   "cell_type": "code",
   "execution_count": 101,
   "id": "eeeb29f5",
   "metadata": {},
   "outputs": [
    {
     "name": "stdout",
     "output_type": "stream",
     "text": [
      "Cantidad de propiedades a imputar: 5129\n"
     ]
    }
   ],
   "source": [
    "# Verifico si aún tengo registros con la variable rooms en nulo\n",
    "\n",
    "print(\"Cantidad de propiedades a imputar:\", (dataset_caba.loc[dataset_caba.rooms.isnull()].shape)[0])"
   ]
  },
  {
   "cell_type": "markdown",
   "id": "96723e1e",
   "metadata": {},
   "source": [
    "Para las variables nulas de room restantes, voy a imputar los valores mediante calculos estadísticos"
   ]
  },
  {
   "cell_type": "code",
   "execution_count": 102,
   "id": "58bc416d",
   "metadata": {},
   "outputs": [],
   "source": [
    "# Calculo la media para cada propiedad según su place name y property type.\n",
    "\n",
    "media_room = dataset_caba.groupby([\"place_name\", \"property_type\"])[[\"rooms\"]].mean()\n",
    "\n",
    "# Renombro para que a la hora de hacer el merge no me altere las columnas\n",
    "\n",
    "media_room.rename(columns = {\"rooms\" : \"media_room\"}, inplace = True)"
   ]
  },
  {
   "cell_type": "code",
   "execution_count": 103,
   "id": "2ee6323f",
   "metadata": {},
   "outputs": [],
   "source": [
    "# Debido a que necesito valores enteros por la naturaleza de la variable. Además, redondeo cada dato hacia abajo tambien por la naturaleza de la variable\n",
    "\n",
    "media_room = media_room.apply(lambda x: np.floor(x))"
   ]
  },
  {
   "cell_type": "code",
   "execution_count": 104,
   "id": "5cf7caa8",
   "metadata": {},
   "outputs": [],
   "source": [
    "# Agrego al dataset, el valor correspondiente de ambientes segun el place name y property type de la propiedad\n",
    "\n",
    "dataset_caba = pd.merge(media_room, dataset_caba, on = [\"place_name\", \"property_type\"], how = \"inner\")"
   ]
  },
  {
   "cell_type": "code",
   "execution_count": 105,
   "id": "9a0c8f9e",
   "metadata": {},
   "outputs": [],
   "source": [
    "# Relleno los valores nulos de rooms con los valores brindados por el promedio de rooms según su place name y property type\n",
    "\n",
    "dataset_caba.rooms.fillna(dataset_caba.media_room, axis = 0, inplace = True)"
   ]
  },
  {
   "cell_type": "code",
   "execution_count": 106,
   "id": "1394b3cd",
   "metadata": {},
   "outputs": [],
   "source": [
    "# Elimino la columna media room\n",
    "\n",
    "dataset_caba.drop(\"media_room\", axis = 1, inplace = True)"
   ]
  },
  {
   "cell_type": "code",
   "execution_count": 107,
   "id": "8c877879",
   "metadata": {
    "scrolled": true
   },
   "outputs": [
    {
     "name": "stdout",
     "output_type": "stream",
     "text": [
      "Cantidad de propiedades a imputar: 180\n"
     ]
    }
   ],
   "source": [
    "# Verifico si aún tengo registros con la variable rooms en nulo\n",
    "\n",
    "print(\"Cantidad de propiedades a imputar:\", (dataset_caba.loc[dataset_caba.rooms.isnull()].shape)[0])"
   ]
  },
  {
   "cell_type": "markdown",
   "id": "78a4d699",
   "metadata": {},
   "source": [
    "**Estos registros seran eliminados al final de la notebook**\n"
   ]
  },
  {
   "cell_type": "markdown",
   "id": "fc765f07",
   "metadata": {},
   "source": [
    "### Amb al exterior"
   ]
  },
  {
   "cell_type": "markdown",
   "id": "cddff1de",
   "metadata": {},
   "source": [
    "En esta variable, se colocará un \"Si\" en caso de que la propiedad tenga algún ambiente que este en el exterior ya sea, un jardín, patio o terraza."
   ]
  },
  {
   "cell_type": "code",
   "execution_count": 108,
   "id": "f679ccdb",
   "metadata": {
    "scrolled": false
   },
   "outputs": [],
   "source": [
    "# Busco en la descripción y en el título aquellas propiedades que contengan la palabra jardin, patio o terraza\n",
    "\n",
    "amb_al_exterior = dataset_caba.description.apply(lambda x: re.search(\"jardin|jardín|patio|terraza\", str(x), flags = re.I))\n",
    "amb_al_exterior_titulo = dataset_caba.title.apply(lambda x: re.search(\"jardin|jardín|patio|terraza\", str(x), flags = re.I))\n",
    "\n",
    "# Guardo en una nueva variable solo los objetos matchs\n",
    "\n",
    "amb_al_exterior_matchs = amb_al_exterior[amb_al_exterior.notnull()]\n",
    "amb_al_exterior_titulo_matchs = amb_al_exterior_titulo[amb_al_exterior_titulo.notnull()]"
   ]
  },
  {
   "cell_type": "code",
   "execution_count": 109,
   "id": "c31faf2e",
   "metadata": {},
   "outputs": [],
   "source": [
    "# Agrego una columna al dataset llamada amb al exterior con el valor por defecto \"No\"\n",
    "\n",
    "dataset_caba[\"amb_al_exterior\"] = 0"
   ]
  },
  {
   "cell_type": "code",
   "execution_count": 110,
   "id": "37797cdf",
   "metadata": {
    "scrolled": true
   },
   "outputs": [],
   "source": [
    "# Modifico a \"Si\" el valor de la variable amb al exterior para las propiedades que correspondan\n",
    "\n",
    "dataset_caba.amb_al_exterior.iloc[amb_al_exterior_matchs.index] = 1\n",
    "dataset_caba.amb_al_exterior.iloc[amb_al_exterior_titulo_matchs.index] = 1"
   ]
  },
  {
   "cell_type": "code",
   "execution_count": 111,
   "id": "975d13c0",
   "metadata": {},
   "outputs": [
    {
     "name": "stdout",
     "output_type": "stream",
     "text": [
      "Cantidad de propiedades a imputar: 0\n"
     ]
    }
   ],
   "source": [
    "# Verifico que no me haya quedado alguna propiedad en nulo\n",
    "\n",
    "print(\"Cantidad de propiedades a imputar:\", (dataset_caba.loc[dataset_caba.amb_al_exterior.isnull()].shape)[0])"
   ]
  },
  {
   "cell_type": "markdown",
   "id": "0aeccf66",
   "metadata": {},
   "source": [
    "### Balcón"
   ]
  },
  {
   "cell_type": "code",
   "execution_count": 112,
   "id": "c7f40ff9",
   "metadata": {},
   "outputs": [],
   "source": [
    "# Busco en la descripción y en el título aquellas propiedades que contengan la palabra balcón\n",
    "\n",
    "balcon = dataset_caba.description.apply(lambda x: re.search(\"balcon|balcón\", str(x), flags = re.I))\n",
    "balcon_titulo = dataset_caba.title.apply(lambda x: re.search(\"balcon|balcón\", str(x), flags = re.I))\n",
    "\n",
    "# Guardo en una nueva variable solo los objetos matchs\n",
    "\n",
    "balcon_matchs = balcon[balcon.notnull()]\n",
    "balcon_titulo_matchs = balcon_titulo[balcon_titulo.notnull()]"
   ]
  },
  {
   "cell_type": "code",
   "execution_count": 113,
   "id": "ab994048",
   "metadata": {
    "scrolled": true
   },
   "outputs": [
    {
     "data": {
      "text/plain": [
       "0        <re.Match object; span=(237, 243), match='BALC...\n",
       "1        <re.Match object; span=(237, 243), match='BALC...\n",
       "3        <re.Match object; span=(404, 410), match='balc...\n",
       "7        <re.Match object; span=(224, 230), match='balc...\n",
       "15       <re.Match object; span=(237, 243), match='BALC...\n",
       "                               ...                        \n",
       "30720    <re.Match object; span=(894, 900), match='balc...\n",
       "30727    <re.Match object; span=(803, 809), match='balc...\n",
       "30730    <re.Match object; span=(1144, 1150), match='ba...\n",
       "30731    <re.Match object; span=(688, 694), match='balc...\n",
       "30735    <re.Match object; span=(392, 398), match='BALC...\n",
       "Name: description, Length: 14451, dtype: object"
      ]
     },
     "execution_count": 113,
     "metadata": {},
     "output_type": "execute_result"
    }
   ],
   "source": [
    "balcon_matchs"
   ]
  },
  {
   "cell_type": "code",
   "execution_count": 114,
   "id": "2c370260",
   "metadata": {},
   "outputs": [
    {
     "data": {
      "text/html": [
       "<div>\n",
       "<style scoped>\n",
       "    .dataframe tbody tr th:only-of-type {\n",
       "        vertical-align: middle;\n",
       "    }\n",
       "\n",
       "    .dataframe tbody tr th {\n",
       "        vertical-align: top;\n",
       "    }\n",
       "\n",
       "    .dataframe thead th {\n",
       "        text-align: right;\n",
       "    }\n",
       "</style>\n",
       "<table border=\"1\" class=\"dataframe\">\n",
       "  <thead>\n",
       "    <tr style=\"text-align: right;\">\n",
       "      <th></th>\n",
       "      <th>place_name</th>\n",
       "      <th>property_type</th>\n",
       "      <th>state_name</th>\n",
       "      <th>lat</th>\n",
       "      <th>lon</th>\n",
       "      <th>price_aprox_usd</th>\n",
       "      <th>surface_total_in_m2</th>\n",
       "      <th>surface_covered_in_m2</th>\n",
       "      <th>price_usd_per_m2</th>\n",
       "      <th>floor</th>\n",
       "      <th>rooms</th>\n",
       "      <th>expenses</th>\n",
       "      <th>description</th>\n",
       "      <th>title</th>\n",
       "      <th>garage</th>\n",
       "      <th>amb_al_exterior</th>\n",
       "    </tr>\n",
       "  </thead>\n",
       "  <tbody>\n",
       "    <tr>\n",
       "      <th>0</th>\n",
       "      <td>Abasto</td>\n",
       "      <td>PH</td>\n",
       "      <td>Capital Federal</td>\n",
       "      <td>-34.606569</td>\n",
       "      <td>-58.411137</td>\n",
       "      <td>160000.000000</td>\n",
       "      <td>160.000000</td>\n",
       "      <td>63.0</td>\n",
       "      <td>1000.000000</td>\n",
       "      <td>1.0</td>\n",
       "      <td>4.0</td>\n",
       "      <td>NaN</td>\n",
       "      <td>4 AMBIENTES CON PATIO Y TERRAZA AL FRENTE, EN ...</td>\n",
       "      <td>PH EN VENTA</td>\n",
       "      <td>0</td>\n",
       "      <td>1</td>\n",
       "    </tr>\n",
       "    <tr>\n",
       "      <th>1</th>\n",
       "      <td>Abasto</td>\n",
       "      <td>PH</td>\n",
       "      <td>Capital Federal</td>\n",
       "      <td>-34.606569</td>\n",
       "      <td>-58.411137</td>\n",
       "      <td>160000.000000</td>\n",
       "      <td>160.000000</td>\n",
       "      <td>63.0</td>\n",
       "      <td>1000.000000</td>\n",
       "      <td>1.0</td>\n",
       "      <td>4.0</td>\n",
       "      <td>NaN</td>\n",
       "      <td>4 AMBIENTES CON PATIO Y TERRAZA AL FRENTE, EN ...</td>\n",
       "      <td>PH EN VENTA</td>\n",
       "      <td>0</td>\n",
       "      <td>1</td>\n",
       "    </tr>\n",
       "    <tr>\n",
       "      <th>2</th>\n",
       "      <td>Abasto</td>\n",
       "      <td>PH</td>\n",
       "      <td>Capital Federal</td>\n",
       "      <td>-34.601053</td>\n",
       "      <td>-58.408352</td>\n",
       "      <td>136922.848443</td>\n",
       "      <td>86.000000</td>\n",
       "      <td>75.0</td>\n",
       "      <td>1592.126145</td>\n",
       "      <td>NaN</td>\n",
       "      <td>4.0</td>\n",
       "      <td>NaN</td>\n",
       "      <td>Venta de Casa 4 AMBIENTES en Abasto, Capital F...</td>\n",
       "      <td>PH EN VENTA</td>\n",
       "      <td>0</td>\n",
       "      <td>1</td>\n",
       "    </tr>\n",
       "    <tr>\n",
       "      <th>3</th>\n",
       "      <td>Abasto</td>\n",
       "      <td>PH</td>\n",
       "      <td>Capital Federal</td>\n",
       "      <td>-34.606465</td>\n",
       "      <td>-58.411705</td>\n",
       "      <td>254900.000000</td>\n",
       "      <td>200.000000</td>\n",
       "      <td>161.0</td>\n",
       "      <td>1274.500000</td>\n",
       "      <td>NaN</td>\n",
       "      <td>5.0</td>\n",
       "      <td>NaN</td>\n",
       "      <td>Sarmiento 3200. PH en Abasto reciclado a nuevo...</td>\n",
       "      <td>Impecable Ph reciclado en Abasto</td>\n",
       "      <td>0</td>\n",
       "      <td>1</td>\n",
       "    </tr>\n",
       "    <tr>\n",
       "      <th>4</th>\n",
       "      <td>Abasto</td>\n",
       "      <td>PH</td>\n",
       "      <td>Capital Federal</td>\n",
       "      <td>-34.603715</td>\n",
       "      <td>-58.410990</td>\n",
       "      <td>67500.000000</td>\n",
       "      <td>45.000000</td>\n",
       "      <td>38.0</td>\n",
       "      <td>1500.000000</td>\n",
       "      <td>NaN</td>\n",
       "      <td>2.0</td>\n",
       "      <td>NaN</td>\n",
       "      <td>Departamento Tipo Casa en Venta 2 Ambientes y ...</td>\n",
       "      <td>Departamento Tipo Casa en Venta 2 Dormitorios</td>\n",
       "      <td>0</td>\n",
       "      <td>1</td>\n",
       "    </tr>\n",
       "    <tr>\n",
       "      <th>...</th>\n",
       "      <td>...</td>\n",
       "      <td>...</td>\n",
       "      <td>...</td>\n",
       "      <td>...</td>\n",
       "      <td>...</td>\n",
       "      <td>...</td>\n",
       "      <td>...</td>\n",
       "      <td>...</td>\n",
       "      <td>...</td>\n",
       "      <td>...</td>\n",
       "      <td>...</td>\n",
       "      <td>...</td>\n",
       "      <td>...</td>\n",
       "      <td>...</td>\n",
       "      <td>...</td>\n",
       "      <td>...</td>\n",
       "    </tr>\n",
       "    <tr>\n",
       "      <th>30740</th>\n",
       "      <td>Villa del Parque</td>\n",
       "      <td>store</td>\n",
       "      <td>Capital Federal</td>\n",
       "      <td>-34.614552</td>\n",
       "      <td>-58.479048</td>\n",
       "      <td>315000.000000</td>\n",
       "      <td>3176.009998</td>\n",
       "      <td>180.0</td>\n",
       "      <td>99.181048</td>\n",
       "      <td>NaN</td>\n",
       "      <td>5.0</td>\n",
       "      <td>1100.0</td>\n",
       "      <td>LOCAL DE 180 MTS CUBIERTOS MAS 45 DESCUBIERTOS...</td>\n",
       "      <td>Local - Villa del Parque</td>\n",
       "      <td>0</td>\n",
       "      <td>1</td>\n",
       "    </tr>\n",
       "    <tr>\n",
       "      <th>30741</th>\n",
       "      <td>Villa del Parque</td>\n",
       "      <td>store</td>\n",
       "      <td>Capital Federal</td>\n",
       "      <td>-34.607255</td>\n",
       "      <td>-58.488449</td>\n",
       "      <td>830000.000000</td>\n",
       "      <td>100.000000</td>\n",
       "      <td>100.0</td>\n",
       "      <td>8300.000000</td>\n",
       "      <td>NaN</td>\n",
       "      <td>5.0</td>\n",
       "      <td>NaN</td>\n",
       "      <td>Venta de Local  en Villa del ParqueVenta de lo...</td>\n",
       "      <td>Local en Villa del Parque</td>\n",
       "      <td>0</td>\n",
       "      <td>0</td>\n",
       "    </tr>\n",
       "    <tr>\n",
       "      <th>30742</th>\n",
       "      <td>Villa del Parque</td>\n",
       "      <td>store</td>\n",
       "      <td>Capital Federal</td>\n",
       "      <td>-34.612562</td>\n",
       "      <td>-58.480630</td>\n",
       "      <td>630000.000000</td>\n",
       "      <td>450.000000</td>\n",
       "      <td>450.0</td>\n",
       "      <td>1400.000000</td>\n",
       "      <td>NaN</td>\n",
       "      <td>5.0</td>\n",
       "      <td>NaN</td>\n",
       "      <td>Venta de Local  en Villa del ParqueLOCAL EN 3 ...</td>\n",
       "      <td>Local en Villa del Parque</td>\n",
       "      <td>0</td>\n",
       "      <td>0</td>\n",
       "    </tr>\n",
       "    <tr>\n",
       "      <th>30743</th>\n",
       "      <td>Villa del Parque</td>\n",
       "      <td>store</td>\n",
       "      <td>Capital Federal</td>\n",
       "      <td>-34.612562</td>\n",
       "      <td>-58.480630</td>\n",
       "      <td>630000.000000</td>\n",
       "      <td>450.000000</td>\n",
       "      <td>450.0</td>\n",
       "      <td>1400.000000</td>\n",
       "      <td>NaN</td>\n",
       "      <td>5.0</td>\n",
       "      <td>NaN</td>\n",
       "      <td>Venta de Local  en Villa del ParqueLOCAL EN 3 ...</td>\n",
       "      <td>Local - Villa del Parque</td>\n",
       "      <td>0</td>\n",
       "      <td>0</td>\n",
       "    </tr>\n",
       "    <tr>\n",
       "      <th>30744</th>\n",
       "      <td>Villa del Parque</td>\n",
       "      <td>store</td>\n",
       "      <td>Capital Federal</td>\n",
       "      <td>-34.612125</td>\n",
       "      <td>-58.481040</td>\n",
       "      <td>630000.000000</td>\n",
       "      <td>352.890000</td>\n",
       "      <td>20.0</td>\n",
       "      <td>1785.258864</td>\n",
       "      <td>NaN</td>\n",
       "      <td>5.0</td>\n",
       "      <td>NaN</td>\n",
       "      <td>Corredor Responsable: Ariel Champanier - C.U.C...</td>\n",
       "      <td>Local en 3 Ptas C/Piscina Climatiz./Lote Ppio/...</td>\n",
       "      <td>0</td>\n",
       "      <td>0</td>\n",
       "    </tr>\n",
       "  </tbody>\n",
       "</table>\n",
       "<p>30745 rows × 16 columns</p>\n",
       "</div>"
      ],
      "text/plain": [
       "             place_name property_type       state_name        lat        lon  \\\n",
       "0                Abasto            PH  Capital Federal -34.606569 -58.411137   \n",
       "1                Abasto            PH  Capital Federal -34.606569 -58.411137   \n",
       "2                Abasto            PH  Capital Federal -34.601053 -58.408352   \n",
       "3                Abasto            PH  Capital Federal -34.606465 -58.411705   \n",
       "4                Abasto            PH  Capital Federal -34.603715 -58.410990   \n",
       "...                 ...           ...              ...        ...        ...   \n",
       "30740  Villa del Parque         store  Capital Federal -34.614552 -58.479048   \n",
       "30741  Villa del Parque         store  Capital Federal -34.607255 -58.488449   \n",
       "30742  Villa del Parque         store  Capital Federal -34.612562 -58.480630   \n",
       "30743  Villa del Parque         store  Capital Federal -34.612562 -58.480630   \n",
       "30744  Villa del Parque         store  Capital Federal -34.612125 -58.481040   \n",
       "\n",
       "       price_aprox_usd  surface_total_in_m2  surface_covered_in_m2  \\\n",
       "0        160000.000000           160.000000                   63.0   \n",
       "1        160000.000000           160.000000                   63.0   \n",
       "2        136922.848443            86.000000                   75.0   \n",
       "3        254900.000000           200.000000                  161.0   \n",
       "4         67500.000000            45.000000                   38.0   \n",
       "...                ...                  ...                    ...   \n",
       "30740    315000.000000          3176.009998                  180.0   \n",
       "30741    830000.000000           100.000000                  100.0   \n",
       "30742    630000.000000           450.000000                  450.0   \n",
       "30743    630000.000000           450.000000                  450.0   \n",
       "30744    630000.000000           352.890000                   20.0   \n",
       "\n",
       "       price_usd_per_m2  floor  rooms  expenses  \\\n",
       "0           1000.000000    1.0    4.0       NaN   \n",
       "1           1000.000000    1.0    4.0       NaN   \n",
       "2           1592.126145    NaN    4.0       NaN   \n",
       "3           1274.500000    NaN    5.0       NaN   \n",
       "4           1500.000000    NaN    2.0       NaN   \n",
       "...                 ...    ...    ...       ...   \n",
       "30740         99.181048    NaN    5.0    1100.0   \n",
       "30741       8300.000000    NaN    5.0       NaN   \n",
       "30742       1400.000000    NaN    5.0       NaN   \n",
       "30743       1400.000000    NaN    5.0       NaN   \n",
       "30744       1785.258864    NaN    5.0       NaN   \n",
       "\n",
       "                                             description  \\\n",
       "0      4 AMBIENTES CON PATIO Y TERRAZA AL FRENTE, EN ...   \n",
       "1      4 AMBIENTES CON PATIO Y TERRAZA AL FRENTE, EN ...   \n",
       "2      Venta de Casa 4 AMBIENTES en Abasto, Capital F...   \n",
       "3      Sarmiento 3200. PH en Abasto reciclado a nuevo...   \n",
       "4      Departamento Tipo Casa en Venta 2 Ambientes y ...   \n",
       "...                                                  ...   \n",
       "30740  LOCAL DE 180 MTS CUBIERTOS MAS 45 DESCUBIERTOS...   \n",
       "30741  Venta de Local  en Villa del ParqueVenta de lo...   \n",
       "30742  Venta de Local  en Villa del ParqueLOCAL EN 3 ...   \n",
       "30743  Venta de Local  en Villa del ParqueLOCAL EN 3 ...   \n",
       "30744  Corredor Responsable: Ariel Champanier - C.U.C...   \n",
       "\n",
       "                                                   title  garage  \\\n",
       "0                                            PH EN VENTA       0   \n",
       "1                                            PH EN VENTA       0   \n",
       "2                                            PH EN VENTA       0   \n",
       "3                       Impecable Ph reciclado en Abasto       0   \n",
       "4          Departamento Tipo Casa en Venta 2 Dormitorios       0   \n",
       "...                                                  ...     ...   \n",
       "30740                           Local - Villa del Parque       0   \n",
       "30741                          Local en Villa del Parque       0   \n",
       "30742                          Local en Villa del Parque       0   \n",
       "30743                           Local - Villa del Parque       0   \n",
       "30744  Local en 3 Ptas C/Piscina Climatiz./Lote Ppio/...       0   \n",
       "\n",
       "       amb_al_exterior  \n",
       "0                    1  \n",
       "1                    1  \n",
       "2                    1  \n",
       "3                    1  \n",
       "4                    1  \n",
       "...                ...  \n",
       "30740                1  \n",
       "30741                0  \n",
       "30742                0  \n",
       "30743                0  \n",
       "30744                0  \n",
       "\n",
       "[30745 rows x 16 columns]"
      ]
     },
     "execution_count": 114,
     "metadata": {},
     "output_type": "execute_result"
    }
   ],
   "source": [
    "dataset_caba"
   ]
  },
  {
   "cell_type": "code",
   "execution_count": 115,
   "id": "88e147df",
   "metadata": {},
   "outputs": [],
   "source": [
    "# Agrego una columna al dataset llamada balcon con el valor por defecto \"No\"\n",
    "\n",
    "dataset_caba[\"balcon\"] = 0"
   ]
  },
  {
   "cell_type": "code",
   "execution_count": 116,
   "id": "9d58aecb",
   "metadata": {
    "scrolled": true
   },
   "outputs": [
    {
     "name": "stderr",
     "output_type": "stream",
     "text": [
      "E:\\Programas\\anaconda3\\envs\\dhdsblend2021\\lib\\site-packages\\pandas\\core\\indexing.py:670: SettingWithCopyWarning: \n",
      "A value is trying to be set on a copy of a slice from a DataFrame\n",
      "\n",
      "See the caveats in the documentation: https://pandas.pydata.org/pandas-docs/stable/user_guide/indexing.html#returning-a-view-versus-a-copy\n",
      "  iloc._setitem_with_indexer(indexer, value)\n"
     ]
    }
   ],
   "source": [
    "# Modifico a \"Si\" el valor de la variable balcon para las propiedades que correspondan\n",
    "\n",
    "dataset_caba.balcon.iloc[balcon_matchs.index] = 1\n",
    "dataset_caba.balcon.iloc[balcon_titulo_matchs.index] = 1"
   ]
  },
  {
   "cell_type": "code",
   "execution_count": 117,
   "id": "b8ba6b3d",
   "metadata": {},
   "outputs": [
    {
     "name": "stdout",
     "output_type": "stream",
     "text": [
      "Cantidad de propiedades a imputar: 0\n"
     ]
    }
   ],
   "source": [
    "# Verifico que no me haya quedado alguna propiedad en nulo\n",
    "\n",
    "print(\"Cantidad de propiedades a imputar:\", (dataset_caba.loc[dataset_caba.amb_al_exterior.isnull()].shape)[0])"
   ]
  },
  {
   "cell_type": "markdown",
   "id": "d9a0499d",
   "metadata": {},
   "source": [
    "### Expenses y Floor"
   ]
  },
  {
   "cell_type": "markdown",
   "id": "c69ba735",
   "metadata": {},
   "source": [
    "Para rellenar nans en estas variables, lo adecuado sería utilizar expresiones regulares sobre la descripción y el título. Sin embargo, debido a la amplia cantidad de formas en las que el usuario puede escribir acerca de estas variables. Decidí eliminarlas del dataset."
   ]
  },
  {
   "cell_type": "code",
   "execution_count": 118,
   "id": "4b9a363c",
   "metadata": {},
   "outputs": [],
   "source": [
    "# Elimino las columnas expenses y floor\n",
    "\n",
    "dataset_caba.drop(\"expenses\", axis = 1, inplace = True)\n",
    "dataset_caba.drop(\"floor\", axis = 1, inplace = True)"
   ]
  },
  {
   "cell_type": "markdown",
   "id": "1a3d846a",
   "metadata": {},
   "source": [
    "### Registros nulos"
   ]
  },
  {
   "cell_type": "markdown",
   "id": "8be0383a",
   "metadata": {},
   "source": [
    "Los registros que han quedado con nulo en alguna de sus columnas serán eliminados."
   ]
  },
  {
   "cell_type": "code",
   "execution_count": 119,
   "id": "e007d480",
   "metadata": {},
   "outputs": [
    {
     "name": "stdout",
     "output_type": "stream",
     "text": [
      "Cantidad de registros nulos: 521\n"
     ]
    }
   ],
   "source": [
    "cant_nulos = len(dataset_caba) - len(dataset_caba.dropna())\n",
    "print(\"Cantidad de registros nulos:\", cant_nulos)"
   ]
  },
  {
   "cell_type": "code",
   "execution_count": 120,
   "id": "9b5d94d2",
   "metadata": {},
   "outputs": [],
   "source": [
    "dataset_caba.dropna(inplace = True)"
   ]
  },
  {
   "cell_type": "markdown",
   "id": "fe290b3d",
   "metadata": {},
   "source": [
    "### Resultados finales"
   ]
  },
  {
   "cell_type": "code",
   "execution_count": 121,
   "id": "145d2a60",
   "metadata": {
    "scrolled": true
   },
   "outputs": [
    {
     "name": "stdout",
     "output_type": "stream",
     "text": [
      "El dataset reducido a 'Capital Federal', comenzó con una cantidad inicial de 30745 registros. Se logró imputar todos los valores faltantes eliminando 521 registros.\n"
     ]
    }
   ],
   "source": [
    "print(\"El dataset reducido a 'Capital Federal', comenzó con una cantidad inicial de\", tamaño, \"registros. Se logró imputar todos los valores faltantes eliminando\", cant_nulos, \"registros.\")"
   ]
  },
  {
   "cell_type": "code",
   "execution_count": 122,
   "id": "9e07193c",
   "metadata": {
    "scrolled": false
   },
   "outputs": [
    {
     "name": "stdout",
     "output_type": "stream",
     "text": [
      "Cantidad de nulos:\n",
      "\n",
      "place_name               0\n",
      "property_type            0\n",
      "state_name               0\n",
      "lat                      0\n",
      "lon                      0\n",
      "price_aprox_usd          0\n",
      "surface_total_in_m2      0\n",
      "surface_covered_in_m2    0\n",
      "price_usd_per_m2         0\n",
      "rooms                    0\n",
      "description              0\n",
      "title                    0\n",
      "garage                   0\n",
      "amb_al_exterior          0\n",
      "balcon                   0\n",
      "dtype: int64\n"
     ]
    }
   ],
   "source": [
    "print(\"Cantidad de nulos:\")\n",
    "print()\n",
    "print(dataset_caba.apply(lambda x: x.isnull().sum()))\n"
   ]
  },
  {
   "cell_type": "code",
   "execution_count": 123,
   "id": "05df232f",
   "metadata": {},
   "outputs": [],
   "source": [
    "# Exporto el dataset a csv\n",
    "\n",
    "dataset_caba.to_csv(\"dataset_caba.csv\")"
   ]
  },
  {
   "cell_type": "code",
   "execution_count": 272,
   "id": "8cea04a4",
   "metadata": {},
   "outputs": [],
   "source": [
    "data = dataset_caba"
   ]
  },
  {
   "cell_type": "code",
   "execution_count": 274,
   "id": "b3999502",
   "metadata": {},
   "outputs": [],
   "source": [
    "data = data[data.price_usd_per_m2 < 30000]"
   ]
  },
  {
   "cell_type": "code",
   "execution_count": 275,
   "id": "e9566c73",
   "metadata": {},
   "outputs": [],
   "source": [
    "df_dummies = data"
   ]
  },
  {
   "cell_type": "code",
   "execution_count": 276,
   "id": "d5e7c312",
   "metadata": {},
   "outputs": [],
   "source": [
    "df_dummies = pd.concat([data, pd.get_dummies(data = data['place_name'], prefix= 'place_name_')], axis = 1)"
   ]
  },
  {
   "cell_type": "code",
   "execution_count": 277,
   "id": "2a3883bf",
   "metadata": {},
   "outputs": [],
   "source": [
    "df_dummies = pd.concat([df_dummies, pd.get_dummies(data = data['property_type'], prefix= 'property_type_')], axis = 1)"
   ]
  },
  {
   "cell_type": "code",
   "execution_count": 278,
   "id": "1346e42e",
   "metadata": {},
   "outputs": [],
   "source": [
    "df_dummies = df_dummies.drop([\"price_aprox_usd\", \"surface_total_in_m2\", \"surface_covered_in_m2\", \"place_name\", \"property_type\", \"state_name\", \"lat\", \"lon\", \"description\", \"title\"], axis = 1)"
   ]
  },
  {
   "cell_type": "code",
   "execution_count": 279,
   "id": "dd97229a",
   "metadata": {
    "scrolled": true
   },
   "outputs": [
    {
     "data": {
      "text/html": [
       "<div>\n",
       "<style scoped>\n",
       "    .dataframe tbody tr th:only-of-type {\n",
       "        vertical-align: middle;\n",
       "    }\n",
       "\n",
       "    .dataframe tbody tr th {\n",
       "        vertical-align: top;\n",
       "    }\n",
       "\n",
       "    .dataframe thead th {\n",
       "        text-align: right;\n",
       "    }\n",
       "</style>\n",
       "<table border=\"1\" class=\"dataframe\">\n",
       "  <thead>\n",
       "    <tr style=\"text-align: right;\">\n",
       "      <th></th>\n",
       "      <th>rooms_std</th>\n",
       "    </tr>\n",
       "  </thead>\n",
       "  <tbody>\n",
       "    <tr>\n",
       "      <th>0</th>\n",
       "      <td>0.014313</td>\n",
       "    </tr>\n",
       "    <tr>\n",
       "      <th>1</th>\n",
       "      <td>0.014313</td>\n",
       "    </tr>\n",
       "    <tr>\n",
       "      <th>2</th>\n",
       "      <td>0.014313</td>\n",
       "    </tr>\n",
       "    <tr>\n",
       "      <th>3</th>\n",
       "      <td>0.034917</td>\n",
       "    </tr>\n",
       "    <tr>\n",
       "      <th>4</th>\n",
       "      <td>-0.026896</td>\n",
       "    </tr>\n",
       "    <tr>\n",
       "      <th>...</th>\n",
       "      <td>...</td>\n",
       "    </tr>\n",
       "    <tr>\n",
       "      <th>6784</th>\n",
       "      <td>-0.047500</td>\n",
       "    </tr>\n",
       "    <tr>\n",
       "      <th>6785</th>\n",
       "      <td>-0.047500</td>\n",
       "    </tr>\n",
       "    <tr>\n",
       "      <th>6786</th>\n",
       "      <td>-0.026896</td>\n",
       "    </tr>\n",
       "    <tr>\n",
       "      <th>6787</th>\n",
       "      <td>-0.047500</td>\n",
       "    </tr>\n",
       "    <tr>\n",
       "      <th>6788</th>\n",
       "      <td>-0.047500</td>\n",
       "    </tr>\n",
       "  </tbody>\n",
       "</table>\n",
       "<p>6789 rows × 1 columns</p>\n",
       "</div>"
      ],
      "text/plain": [
       "      rooms_std\n",
       "0      0.014313\n",
       "1      0.014313\n",
       "2      0.014313\n",
       "3      0.034917\n",
       "4     -0.026896\n",
       "...         ...\n",
       "6784  -0.047500\n",
       "6785  -0.047500\n",
       "6786  -0.026896\n",
       "6787  -0.047500\n",
       "6788  -0.047500\n",
       "\n",
       "[6789 rows x 1 columns]"
      ]
     },
     "execution_count": 279,
     "metadata": {},
     "output_type": "execute_result"
    }
   ],
   "source": [
    "normalizar = ['rooms']\n",
    "transformer = StandardScaler().fit(df_dummies[normalizar])\n",
    "\n",
    "std_df = pd.DataFrame(transformer.transform(df_dummies[normalizar]))\n",
    "std_df.columns = [i + '_std' for i in normalizar]\n",
    "std_df"
   ]
  }
 ],
 "metadata": {
  "kernelspec": {
   "display_name": "Python 3 (ipykernel)",
   "language": "python",
   "name": "python3"
  },
  "language_info": {
   "codemirror_mode": {
    "name": "ipython",
    "version": 3
   },
   "file_extension": ".py",
   "mimetype": "text/x-python",
   "name": "python",
   "nbconvert_exporter": "python",
   "pygments_lexer": "ipython3",
   "version": "3.8.13"
  }
 },
 "nbformat": 4,
 "nbformat_minor": 5
}
